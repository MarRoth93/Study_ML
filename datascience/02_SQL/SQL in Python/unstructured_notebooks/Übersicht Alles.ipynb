{
 "cells": [
  {
   "cell_type": "markdown",
   "metadata": {},
   "source": [
    "# Dateipfad ändern"
   ]
  },
  {
   "cell_type": "code",
   "execution_count": 1,
   "metadata": {},
   "outputs": [
    {
     "name": "stdout",
     "output_type": "stream",
     "text": [
      "G:\\Meine Ablage\\Projekte\\Coursera\\Datascience\\SQL\\Script\\HR\n"
     ]
    }
   ],
   "source": [
    "cd G:\\Meine Ablage\\Projekte\\Coursera\\Datascience\\SQL\\Script\\HR"
   ]
  },
  {
   "cell_type": "markdown",
   "metadata": {},
   "source": [
    "# Dateien Importieren"
   ]
  },
  {
   "cell_type": "code",
   "execution_count": 2,
   "metadata": {},
   "outputs": [],
   "source": [
    "import pandas as pd\n",
    "departments_df = pd.read_csv(\"Departments.csv\")\n",
    "employees_df = pd.read_csv(\"Employees_updated.csv\")\n",
    "jobs_df = pd.read_csv(\"Jobs.csv\")\n"
   ]
  },
  {
   "cell_type": "markdown",
   "metadata": {},
   "source": [
    "# sqlite ohne magic methods"
   ]
  },
  {
   "cell_type": "code",
   "execution_count": 3,
   "metadata": {},
   "outputs": [
    {
     "data": {
      "text/plain": [
       "9"
      ]
     },
     "execution_count": 3,
     "metadata": {},
     "output_type": "execute_result"
    }
   ],
   "source": [
    "import sqlite3\n",
    "con = sqlite3.connect(\"Marco2.db\")\n",
    "cur = con.cursor()\n",
    "\n",
    "departments_df.to_sql(\"departments\", con, if_exists='replace', index=False,method=\"multi\")\n",
    "employees_df.to_sql(\"employees\", con, if_exists='replace', index=False,method=\"multi\")\n",
    "jobs_df.to_sql(\"jobs\", con, if_exists='replace', index=False,method=\"multi\")\n"
   ]
  },
  {
   "cell_type": "code",
   "execution_count": 4,
   "metadata": {},
   "outputs": [
    {
     "data": {
      "text/plain": [
       "<sqlite3.Cursor at 0x2a09bf03140>"
      ]
     },
     "execution_count": 4,
     "metadata": {},
     "output_type": "execute_result"
    }
   ],
   "source": [
    "statement = '''SELECT * FROM jobs limit 3'''\n",
    "cur.execute(statement)"
   ]
  },
  {
   "cell_type": "code",
   "execution_count": 5,
   "metadata": {},
   "outputs": [
    {
     "name": "stdout",
     "output_type": "stream",
     "text": [
      "All the data\n",
      "(200, 'Sr.Software Developer', 60000, 80000)\n",
      "(300, 'Jr.Software Developer', 40000, 60000)\n",
      "(400, 'Jr.Software Developer', 40000, 60000)\n"
     ]
    }
   ],
   "source": [
    "print(\"All the data\")\n",
    "output_all = cur.fetchall()\n",
    "for row_all in output_all:\n",
    "  print(row_all)"
   ]
  },
  {
   "cell_type": "markdown",
   "metadata": {},
   "source": [
    "## eigene Tabelle erstellen"
   ]
  },
  {
   "cell_type": "code",
   "execution_count": 6,
   "metadata": {},
   "outputs": [
    {
     "name": "stdout",
     "output_type": "stream",
     "text": [
      "Table is Ready\n",
      "Data added to table\n"
     ]
    }
   ],
   "source": [
    "table = \"\"\" create table IF NOT EXISTS Freunde(ID INTEGER PRIMARY KEY NOT NULL, Name VARCHAR(20),\n",
    "Nachname VARCHAR(20), Age INTEGER);\"\"\"\n",
    "\n",
    "try:\n",
    "    cur.execute(table)\n",
    "except:\n",
    "    print(\"didnt work\")\n",
    "else:\n",
    "    print(\"Table is Ready\")\n",
    "\n",
    "try:\n",
    "    cur.execute('''insert into Freunde values \n",
    "                (1, 'Marco', 'Rothermel', 30),\n",
    "                (2, 'Tobi', 'Eikmanns', 30),\n",
    "                (3, 'Chris', 'Rothermel', 32),\n",
    "                (4, 'Flo', 'Fischer', 31)''')\n",
    "except:\n",
    "    print(\"didnt work\")\n",
    "else:\n",
    "    print(\"Data added to table\")"
   ]
  },
  {
   "cell_type": "code",
   "execution_count": 7,
   "metadata": {},
   "outputs": [
    {
     "name": "stdout",
     "output_type": "stream",
     "text": [
      "All the data\n",
      "(1, 'Marco', 'Rothermel', 30)\n",
      "(2, 'Tobi', 'Eikmanns', 30)\n",
      "(3, 'Chris', 'Rothermel', 32)\n",
      "(4, 'Flo', 'Fischer', 31)\n"
     ]
    }
   ],
   "source": [
    "statement = '''SELECT * FROM Freunde'''\n",
    "cur.execute(statement)\n",
    "\n",
    "print(\"All the data\")\n",
    "output_all = cur.fetchall()\n",
    "for row_all in output_all:\n",
    "  print(row_all)"
   ]
  },
  {
   "cell_type": "code",
   "execution_count": 8,
   "metadata": {},
   "outputs": [],
   "source": [
    "# Close the connection\n",
    "con.close()"
   ]
  },
  {
   "cell_type": "markdown",
   "metadata": {},
   "source": [
    "# sqlite mit magic methods"
   ]
  },
  {
   "cell_type": "code",
   "execution_count": 14,
   "metadata": {},
   "outputs": [
    {
     "name": "stdout",
     "output_type": "stream",
     "text": [
      "The sql extension is already loaded. To reload it, use:\n",
      "  %reload_ext sql\n"
     ]
    }
   ],
   "source": [
    "import sqlite3\n",
    "con = sqlite3.connect(\"Marco.db\")\n",
    "cur = con.cursor()\n",
    "%load_ext sql\n",
    "%sql sqlite:///Marco.db"
   ]
  },
  {
   "cell_type": "markdown",
   "metadata": {},
   "source": [
    "## Columns ändern"
   ]
  },
  {
   "cell_type": "code",
   "execution_count": null,
   "metadata": {},
   "outputs": [],
   "source": [
    "columns_jobs = (\"job_id\", 'title', 'income', 'no_idea')\n",
    "columns_employees = (4, 'Research and Development', 'Berlin')\n",
    "columns_jobs = (4, 'Research and Development', 'Berlin')\n"
   ]
  },
  {
   "cell_type": "markdown",
   "metadata": {},
   "source": [
    "## alle tabellen anzeigen lassen"
   ]
  },
  {
   "cell_type": "code",
   "execution_count": 15,
   "metadata": {},
   "outputs": [
    {
     "name": "stdout",
     "output_type": "stream",
     "text": [
      " * sqlite:///Marco.db\n",
      "Done.\n"
     ]
    },
    {
     "data": {
      "text/html": [
       "<table>\n",
       "    <thead>\n",
       "        <tr>\n",
       "            <th>name</th>\n",
       "        </tr>\n",
       "    </thead>\n",
       "    <tbody>\n",
       "        <tr>\n",
       "            <td>departments</td>\n",
       "        </tr>\n",
       "        <tr>\n",
       "            <td>employees</td>\n",
       "        </tr>\n",
       "        <tr>\n",
       "            <td>jobs</td>\n",
       "        </tr>\n",
       "    </tbody>\n",
       "</table>"
      ],
      "text/plain": [
       "[('departments',), ('employees',), ('jobs',)]"
      ]
     },
     "execution_count": 15,
     "metadata": {},
     "output_type": "execute_result"
    }
   ],
   "source": [
    "%sql SELECT name FROM sqlite_master WHERE type='table'"
   ]
  },
  {
   "cell_type": "code",
   "execution_count": 16,
   "metadata": {},
   "outputs": [
    {
     "name": "stdout",
     "output_type": "stream",
     "text": [
      " * sqlite:///Marco.db\n",
      "Done.\n"
     ]
    },
    {
     "data": {
      "text/html": [
       "<table>\n",
       "    <thead>\n",
       "        <tr>\n",
       "            <th>100</th>\n",
       "            <th>Sr. Architect</th>\n",
       "            <th>60000</th>\n",
       "            <th>100000</th>\n",
       "        </tr>\n",
       "    </thead>\n",
       "    <tbody>\n",
       "        <tr>\n",
       "            <td>200</td>\n",
       "            <td>Sr.Software Developer</td>\n",
       "            <td>60000</td>\n",
       "            <td>80000</td>\n",
       "        </tr>\n",
       "        <tr>\n",
       "            <td>300</td>\n",
       "            <td>Jr.Software Developer</td>\n",
       "            <td>40000</td>\n",
       "            <td>60000</td>\n",
       "        </tr>\n",
       "        <tr>\n",
       "            <td>400</td>\n",
       "            <td>Jr.Software Developer</td>\n",
       "            <td>40000</td>\n",
       "            <td>60000</td>\n",
       "        </tr>\n",
       "        <tr>\n",
       "            <td>500</td>\n",
       "            <td>Jr. Architect</td>\n",
       "            <td>50000</td>\n",
       "            <td>70000</td>\n",
       "        </tr>\n",
       "        <tr>\n",
       "            <td>600</td>\n",
       "            <td>Lead Architect</td>\n",
       "            <td>70000</td>\n",
       "            <td>100000</td>\n",
       "        </tr>\n",
       "        <tr>\n",
       "            <td>650</td>\n",
       "            <td>Jr. Designer</td>\n",
       "            <td>60000</td>\n",
       "            <td>70000</td>\n",
       "        </tr>\n",
       "        <tr>\n",
       "            <td>660</td>\n",
       "            <td>Jr. Designer</td>\n",
       "            <td>60000</td>\n",
       "            <td>70000</td>\n",
       "        </tr>\n",
       "        <tr>\n",
       "            <td>234</td>\n",
       "            <td>Sr. Designer</td>\n",
       "            <td>70000</td>\n",
       "            <td>90000</td>\n",
       "        </tr>\n",
       "        <tr>\n",
       "            <td>220</td>\n",
       "            <td>Sr. Designer</td>\n",
       "            <td>70000</td>\n",
       "            <td>90000</td>\n",
       "        </tr>\n",
       "    </tbody>\n",
       "</table>"
      ],
      "text/plain": [
       "[(200, 'Sr.Software Developer', 60000, 80000),\n",
       " (300, 'Jr.Software Developer', 40000, 60000),\n",
       " (400, 'Jr.Software Developer', 40000, 60000),\n",
       " (500, 'Jr. Architect', 50000, 70000),\n",
       " (600, 'Lead Architect', 70000, 100000),\n",
       " (650, 'Jr. Designer', 60000, 70000),\n",
       " (660, 'Jr. Designer', 60000, 70000),\n",
       " (234, 'Sr. Designer', 70000, 90000),\n",
       " (220, 'Sr. Designer', 70000, 90000)]"
      ]
     },
     "execution_count": 16,
     "metadata": {},
     "output_type": "execute_result"
    }
   ],
   "source": [
    "%sql select * from jobs"
   ]
  },
  {
   "cell_type": "code",
   "execution_count": 12,
   "metadata": {},
   "outputs": [
    {
     "name": "stdout",
     "output_type": "stream",
     "text": [
      " * sqlite:///Marco.db\n",
      "Done.\n"
     ]
    },
    {
     "data": {
      "text/html": [
       "<table>\n",
       "    <thead>\n",
       "        <tr>\n",
       "            <th>cid</th>\n",
       "            <th>name</th>\n",
       "            <th>type</th>\n",
       "            <th>notnull</th>\n",
       "            <th>dflt_value</th>\n",
       "            <th>pk</th>\n",
       "        </tr>\n",
       "    </thead>\n",
       "    <tbody>\n",
       "        <tr>\n",
       "            <td>0</td>\n",
       "            <td>100</td>\n",
       "            <td>INTEGER</td>\n",
       "            <td>0</td>\n",
       "            <td>None</td>\n",
       "            <td>0</td>\n",
       "        </tr>\n",
       "        <tr>\n",
       "            <td>1</td>\n",
       "            <td>Sr. Architect</td>\n",
       "            <td>TEXT</td>\n",
       "            <td>0</td>\n",
       "            <td>None</td>\n",
       "            <td>0</td>\n",
       "        </tr>\n",
       "        <tr>\n",
       "            <td>2</td>\n",
       "            <td>60000</td>\n",
       "            <td>INTEGER</td>\n",
       "            <td>0</td>\n",
       "            <td>None</td>\n",
       "            <td>0</td>\n",
       "        </tr>\n",
       "        <tr>\n",
       "            <td>3</td>\n",
       "            <td>100000</td>\n",
       "            <td>INTEGER</td>\n",
       "            <td>0</td>\n",
       "            <td>None</td>\n",
       "            <td>0</td>\n",
       "        </tr>\n",
       "    </tbody>\n",
       "</table>"
      ],
      "text/plain": [
       "[(0, '100', 'INTEGER', 0, None, 0),\n",
       " (1, 'Sr. Architect', 'TEXT', 0, None, 0),\n",
       " (2, '60000', 'INTEGER', 0, None, 0),\n",
       " (3, '100000', 'INTEGER', 0, None, 0)]"
      ]
     },
     "execution_count": 12,
     "metadata": {},
     "output_type": "execute_result"
    }
   ],
   "source": [
    "%sql PRAGMA table_info(jobs)\n"
   ]
  },
  {
   "cell_type": "code",
   "execution_count": 13,
   "metadata": {},
   "outputs": [],
   "source": [
    "# Close the connection\n",
    "con.close()"
   ]
  },
  {
   "cell_type": "code",
   "execution_count": null,
   "metadata": {},
   "outputs": [],
   "source": []
  }
 ],
 "metadata": {
  "kernelspec": {
   "display_name": "base",
   "language": "python",
   "name": "python3"
  },
  "language_info": {
   "codemirror_mode": {
    "name": "ipython",
    "version": 3
   },
   "file_extension": ".py",
   "mimetype": "text/x-python",
   "name": "python",
   "nbconvert_exporter": "python",
   "pygments_lexer": "ipython3",
   "version": "3.11.5"
  }
 },
 "nbformat": 4,
 "nbformat_minor": 2
}
