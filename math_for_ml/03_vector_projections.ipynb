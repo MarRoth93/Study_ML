{
 "cells": [
  {
   "cell_type": "markdown",
   "id": "a576950e",
   "metadata": {},
   "source": [
    "# Cosine and Dot Product\n",
    "\n",
    "In this notebook, we explore the connection between the cosine rule and the dot product.\n",
    "We'll understand how to interpret dot products geometrically, how they relate to angles between vectors, and when they are zero or negative.\n",
    "\n",
    "---\n",
    "\n",
    "## 1. The Cosine Rule from Geometry\n",
    "\n",
    "The **cosine rule** for a triangle with sides $a$, $b$, $c$ and angle $\\theta$ between $a$ and $b$ is:\n",
    "\n",
    "$$c^2 = a^2 + b^2 - 2ab \\cos(\\theta)$$\n",
    "\n",
    "This applies to any triangle and is useful when working with non-right triangles.\n",
    "\n",
    "Now, let's translate this rule into **vector language**.\n"
   ]
  },
  {
   "cell_type": "code",
   "execution_count": 8,
   "id": "c6bfbed3",
   "metadata": {},
   "outputs": [],
   "source": [
    "# Import necessary libraries\n",
    "import numpy as np\n",
    "import matplotlib.pyplot as plt"
   ]
  },
  {
   "cell_type": "code",
   "execution_count": 9,
   "id": "efbeb894",
   "metadata": {},
   "outputs": [],
   "source": [
    "# Helper function to compute angle between vectors in degrees\n",
    "def angle_between(v1, v2):\n",
    "    cos_theta = np.dot(v1, v2) / (np.linalg.norm(v1) * np.linalg.norm(v2))\n",
    "    return np.degrees(np.arccos(np.clip(cos_theta, -1.0, 1.0)))"
   ]
  },
  {
   "cell_type": "markdown",
   "id": "884db22f",
   "metadata": {},
   "source": [
    "## 2. From Cosine Rule to Dot Product\n",
    "\n",
    "Let vectors $\\vec{r}$ and $\\vec{s}$ define two sides of a triangle. Then:\n",
    "\n",
    "$$\\| \\vec{r} - \\vec{s} \\|^2 = \\| \\vec{r} \\|^2 + \\| \\vec{s} \\|^2 - 2 \\|\\vec{r}\\| \\|\\vec{s}\\| \\cos(\\theta)$$\n",
    "\n",
    "By expanding the left-hand side as a dot product:\n",
    "\n",
    "$$\\| \\vec{r} - \\vec{s} \\|^2 = (\\vec{r} - \\vec{s}) \\cdot (\\vec{r} - \\vec{s}) = \\vec{r} \\cdot \\vec{r} - 2\\vec{r} \\cdot \\vec{s} + \\vec{s} \\cdot \\vec{s}$$\n",
    "\n",
    "We can match terms and derive:\n",
    "\n",
    "$$\\vec{r} \\cdot \\vec{s} = \\|\\vec{r}\\| \\|\\vec{s}\\| \\cos(\\theta)$$\n",
    "\n",
    "This is the **dot product definition** from the cosine rule.\n"
   ]
  },
  {
   "cell_type": "code",
   "execution_count": 10,
   "id": "fc552ce0",
   "metadata": {},
   "outputs": [
    {
     "name": "stdout",
     "output_type": "stream",
     "text": [
      "r · s = 1.00\n",
      "‖r‖ = 3.61, ‖s‖ = 2.24\n",
      "cos(θ) = 0.12\n",
      "Angle between r and s = 82.87°\n"
     ]
    }
   ],
   "source": [
    "# Define two example vectors r and s\n",
    "r = np.array([3, 2])\n",
    "s = np.array([-1, 2])\n",
    "\n",
    "# Compute dot product and cosine angle\n",
    "dot_product = np.dot(r, s)\n",
    "norm_r = np.linalg.norm(r)\n",
    "norm_s = np.linalg.norm(s)\n",
    "cos_theta = dot_product / (norm_r * norm_s)\n",
    "theta_deg = angle_between(r, s)\n",
    "\n",
    "print(f\"r · s = {dot_product:.2f}\")\n",
    "print(f\"‖r‖ = {norm_r:.2f}, ‖s‖ = {norm_s:.2f}\")\n",
    "print(f\"cos(θ) = {cos_theta:.2f}\")\n",
    "print(f\"Angle between r and s = {theta_deg:.2f}°\")\n"
   ]
  },
  {
   "cell_type": "markdown",
   "id": "13271727",
   "metadata": {},
   "source": [
    "## 3. Geometric Interpretation\n",
    "\n",
    "The **dot product** tells us how much two vectors \"point in the same direction\".\n",
    "\n",
    "- If $\\theta = 0°$, $\\cos(\\theta) = 1$ → $\\vec{r} \\cdot \\vec{s}$ is maximal and **positive**\n",
    "- If $\\theta = 90°$, $\\cos(\\theta) = 0$ → $\\vec{r} \\cdot \\vec{s} = 0$ → vectors are **orthogonal**\n",
    "- If $\\theta = 180°$, $\\cos(\\theta) = -1$ → $\\vec{r} \\cdot \\vec{s}$ is **negative**\n",
    "\n",
    "Let's visualize these cases.\n"
   ]
  },
  {
   "cell_type": "code",
   "execution_count": 11,
   "id": "0bbbc555",
   "metadata": {},
   "outputs": [
    {
     "data": {
      "image/png": "[encoded data removed]",
      "text/plain": [
       "<Figure size 1500x400 with 3 Axes>"
      ]
     },
     "metadata": {},
     "output_type": "display_data"
    }
   ],
   "source": [
    "# Plot three scenarios: 0°, 90°, 180°\n",
    "fig, axs = plt.subplots(1, 3, figsize=(15, 4))\n",
    "\n",
    "scenarios = [\n",
    "    (np.array([2, 0]), np.array([3, 0]), \"0°: Same Direction\"),\n",
    "    (np.array([2, 0]), np.array([0, 3]), \"90°: Orthogonal\"),\n",
    "    (np.array([2, 0]), np.array([-3, 0]), \"180°: Opposite Direction\")\n",
    "]\n",
    "\n",
    "for ax, (v1, v2, title) in zip(axs, scenarios):\n",
    "    ax.quiver(0, 0, v1[0], v1[1], angles='xy', scale_units='xy', scale=1, color='blue', label='r')\n",
    "    ax.quiver(0, 0, v2[0], v2[1], angles='xy', scale_units='xy', scale=1, color='green', label='s')\n",
    "    ax.set_xlim(-4, 4)\n",
    "    ax.set_ylim(-4, 4)\n",
    "    ax.set_aspect('equal')\n",
    "    ax.axhline(0, color='black', lw=0.5)\n",
    "    ax.axvline(0, color='black', lw=0.5)\n",
    "    ax.set_title(title)\n",
    "    ax.legend()\n",
    "\n",
    "plt.tight_layout()\n",
    "plt.show()\n"
   ]
  },
  {
   "cell_type": "markdown",
   "id": "775d35bc",
   "metadata": {},
   "source": [
    "## 4. Orthogonality and Sign of Dot Product\n",
    "\n",
    "- If $\\vec{r} \\cdot \\vec{s} = 0$, then vectors are orthogonal (perpendicular).\n",
    "- If $\\vec{r} \\cdot \\vec{s} > 0$, vectors form an acute angle.\n",
    "- If $\\vec{r} \\cdot \\vec{s} < 0$, vectors form an obtuse angle.\n",
    "\n",
    "This is very useful in applications like projections, similarity measures, and understanding directions in ML and physics.\n"
   ]
  },
  {
   "cell_type": "code",
   "execution_count": 12,
   "id": "d389f1e4",
   "metadata": {},
   "outputs": [
    {
     "name": "stdout",
     "output_type": "stream",
     "text": [
      "u = [2 0], v = [1 0] → u·v = 2.00, angle = 0.00°\n",
      "u = [2 0], v = [0 2] → u·v = 0.00, angle = 90.00°\n",
      "u = [2 0], v = [-1  0] → u·v = -2.00, angle = 180.00°\n"
     ]
    }
   ],
   "source": [
    "# Explore different dot product values for interpretation\n",
    "examples = [\n",
    "    (np.array([2, 0]), np.array([1, 0])),     # acute\n",
    "    (np.array([2, 0]), np.array([0, 2])),     # orthogonal\n",
    "    (np.array([2, 0]), np.array([-1, 0])),    # obtuse\n",
    "]\n",
    "\n",
    "for u, v in examples:\n",
    "    dot = np.dot(u, v)\n",
    "    angle = angle_between(u, v)\n",
    "    print(f\"u = {u}, v = {v} → u·v = {dot:.2f}, angle = {angle:.2f}°\")\n"
   ]
  },
  {
   "cell_type": "markdown",
   "id": "cf704c3a",
   "metadata": {},
   "source": [
    "## ✅ Summary\n",
    "\n",
    "- The **dot product** of two vectors relates to their lengths and the cosine of the angle between them.\n",
    "- The sign and magnitude of the dot product tells us:\n",
    "  - How aligned two vectors are\n",
    "  - Whether they're orthogonal (dot = 0)\n",
    "  - Whether they're in opposite directions (dot < 0)\n",
    "\n",
    "This geometric intuition underpins many ideas in physics, graphics, and machine learning.\n",
    "\n",
    "---\n",
    "\n",
    "Try changing the vectors in the code above and explore how the dot product and angle behave!\n"
   ]
  },
  {
   "cell_type": "code",
   "execution_count": null,
   "id": "a1341c20",
   "metadata": {},
   "outputs": [],
   "source": []
  }
 ],
 "metadata": {
  "kernelspec": {
   "display_name": "marco",
   "language": "python",
   "name": "python3"
  },
  "language_info": {
   "codemirror_mode": {
    "name": "ipython",
    "version": 3
   },
   "file_extension": ".py",
   "mimetype": "text/x-python",
   "name": "python",
   "nbconvert_exporter": "python",
   "pygments_lexer": "ipython3",
   "version": "3.11.13"
  }
 },
 "nbformat": 4,
 "nbformat_minor": 5
}
