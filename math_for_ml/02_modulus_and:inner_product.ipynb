{
 "cells": [
  {
   "cell_type": "markdown",
   "id": "ec674522",
   "metadata": {},
   "source": [
    "# Vector Modulus and Inner Product\n",
    "\n",
    "This notebook explores two fundamental concepts in linear algebra:\n",
    "\n",
    "1. **Vector Modulus (Magnitude)** - The length of a vector\n",
    "2. **Inner Product (Dot Product)** - A way to multiply vectors that produces a scalar\n",
    "\n",
    "These concepts are essential for understanding distances, similarities, and geometric relationships in machine learning and data science."
   ]
  },
  {
   "cell_type": "markdown",
   "id": "263e1fb8",
   "metadata": {},
   "source": [
    "## Import Required Libraries\n"
   ]
  },
  {
   "cell_type": "code",
   "execution_count": 1,
   "id": "50994b79",
   "metadata": {},
   "outputs": [],
   "source": [
    "# Import NumPy for vector operations and linear algebra functions\n",
    "import numpy as np\n",
    "# Import Matplotlib for creating vector visualizations\n",
    "import matplotlib.pyplot as plt"
   ]
  },
  {
   "cell_type": "markdown",
   "id": "c5c7eb3c",
   "metadata": {},
   "source": [
    "## 1. Vector Modulus (Magnitude)\n",
    "\n",
    "The **modulus** or **magnitude** of a vector is its length in space. For a 2D vector **v** = [x, y], the modulus is calculated using the Pythagorean theorem:\n",
    "\n",
    "**|v| = √(x² + y²)**\n",
    "\n",
    "In NumPy, we can compute this using `np.linalg.norm()`."
   ]
  },
  {
   "cell_type": "code",
   "execution_count": 2,
   "id": "6da26aba",
   "metadata": {},
   "outputs": [
    {
     "name": "stdout",
     "output_type": "stream",
     "text": [
      "Vector v = [3 4]\n",
      "Modulus |v| = 5.0\n",
      "Manual calculation: |v| = √(3² + 4²) = √(9 + 16) = √25 = 5.0\n"
     ]
    }
   ],
   "source": [
    "# Define a 2D vector v = [3, 4]\n",
    "v = np.array([3, 4])\n",
    "\n",
    "# Calculate the modulus (magnitude) using NumPy's norm function\n",
    "mod_v = np.linalg.norm(v)\n",
    "\n",
    "print(f\"Vector v = {v}\")\n",
    "print(f\"Modulus |v| = {mod_v}\")\n",
    "print(f\"Manual calculation: |v| = √(3² + 4²) = √(9 + 16) = √25 = {np.sqrt(3**2 + 4**2)}\")"
   ]
  },
  {
   "cell_type": "markdown",
   "id": "1af5e8d6",
   "metadata": {},
   "source": [
    "### 1.1 Visualizing the Vector and Its Magnitude\n",
    "\n",
    "Let's visualize the vector **v** = [3, 4] as an arrow from the origin. The length of this arrow represents the magnitude."
   ]
  },
  {
   "cell_type": "code",
   "execution_count": 3,
   "id": "b880c92b",
   "metadata": {},
   "outputs": [
    {
     "data": {
      "image/png": "[encoded data removed]",
      "text/plain": [
       "<Figure size 800x600 with 1 Axes>"
      ]
     },
     "metadata": {},
     "output_type": "display_data"
    },
    {
     "name": "stdout",
     "output_type": "stream",
     "text": [
      "The blue arrow represents vector v with magnitude 5.00\n"
     ]
    }
   ],
   "source": [
    "# Plotting vector with detailed comments\n",
    "# Create a new figure for plotting\n",
    "plt.figure(figsize=(8, 6))\n",
    "\n",
    "# Plot the vector as an arrow from origin (0,0) to point (3,4)\n",
    "# quiver creates arrows: quiver(x_start, y_start, x_direction, y_direction)\n",
    "plt.quiver(0, 0, v[0], v[1], angles='xy', scale_units='xy', scale=1, \n",
    "           color='blue', width=0.005, label=f'v = {v}')\n",
    "\n",
    "# Set axis limits to show the vector clearly\n",
    "plt.xlim(-1, 5)\n",
    "plt.ylim(-1, 5)\n",
    "\n",
    "# Add labels and title\n",
    "plt.title(f'Vector v = {v} with Magnitude |v| = {mod_v:.2f}')\n",
    "plt.xlabel('x')\n",
    "plt.ylabel('y')\n",
    "\n",
    "# Add grid for better visualization\n",
    "plt.grid(True, alpha=0.3)\n",
    "\n",
    "# Add legend and show the plot\n",
    "plt.legend()\n",
    "plt.show()\n",
    "\n",
    "print(f\"The blue arrow represents vector v with magnitude {mod_v:.2f}\")"
   ]
  },
  {
   "cell_type": "markdown",
   "id": "72e01c20",
   "metadata": {},
   "source": [
    "## 2. Inner Product (Dot Product)\n",
    "\n",
    "The **inner product** or **dot product** of two vectors is a fundamental operation that produces a scalar value. For two vectors **u** = [u₁, u₂] and **w** = [w₁, w₂]:\n",
    "\n",
    "**u · w = u₁ × w₁ + u₂ × w₂**\n",
    "\n",
    "The dot product has important geometric interpretations:\n",
    "- It measures how much two vectors point in the same direction\n",
    "- When the dot product is 0, the vectors are perpendicular (orthogonal)\n",
    "- When positive, vectors point in similar directions\n",
    "- When negative, vectors point in opposite directions"
   ]
  },
  {
   "cell_type": "code",
   "execution_count": 4,
   "id": "64f77370",
   "metadata": {},
   "outputs": [
    {
     "name": "stdout",
     "output_type": "stream",
     "text": [
      "Example Vectors:\n",
      "u = [1 2]\n",
      "w = [3 4]\n",
      "\n",
      "Dot Product Calculation:\n",
      "u · w = 1×3 + 2×4 = 3 + 8 = 11\n",
      "Using NumPy: np.dot(u, w) = 11\n"
     ]
    }
   ],
   "source": [
    "# Define two vectors for dot product demonstration\n",
    "u = np.array([1, 2])\n",
    "w = np.array([3, 4])\n",
    "\n",
    "# Calculate the dot product using NumPy's dot function\n",
    "dot_uw = np.dot(u, w)\n",
    "\n",
    "# Display the example vectors\n",
    "print(f\"Example Vectors:\")\n",
    "print(f\"u = {u}\")\n",
    "print(f\"w = {w}\")\n",
    "\n",
    "# Explain and display the dot product calculation step-by-step\n",
    "print(f\"\\nDot Product Calculation:\")\n",
    "print(f\"u · w = {u[0]}×{w[0]} + {u[1]}×{w[1]} = {u[0]*w[0]} + {u[1]*w[1]} = {dot_uw}\")\n",
    "\n",
    "# Display the result using NumPy's dot function\n",
    "print(f\"Using NumPy: np.dot(u, w) = {dot_uw}\")"
   ]
  },
  {
   "cell_type": "markdown",
   "id": "91aaba05",
   "metadata": {},
   "source": [
    "### 2.1 Visualizing the Two Vectors\n",
    "\n",
    "Let's visualize both vectors **u** and **w** to understand their geometric relationship."
   ]
  },
  {
   "cell_type": "code",
   "execution_count": 5,
   "id": "ec17b71a",
   "metadata": {},
   "outputs": [
    {
     "data": {
      "image/png": "[encoded data removed]",
      "text/plain": [
       "<Figure size 800x600 with 1 Axes>"
      ]
     },
     "metadata": {},
     "output_type": "display_data"
    },
    {
     "name": "stdout",
     "output_type": "stream",
     "text": [
      "Additional Information:\n",
      "Angle between u and w: 10.3°\n",
      "Since the dot product is 11 > 0, the vectors point in similar directions\n"
     ]
    }
   ],
   "source": [
    "plt.figure(figsize=(8, 6))\n",
    "\n",
    "# Plot vector u in red\n",
    "plt.quiver(0, 0, u[0], u[1], angles='xy', scale_units='xy', scale=1, \n",
    "           color='red', width=0.005, label=f'u = {u}')\n",
    "\n",
    "# Plot vector w in green  \n",
    "plt.quiver(0, 0, w[0], w[1], angles='xy', scale_units='xy', scale=1, \n",
    "           color='green', width=0.005, label=f'w = {w}')\n",
    "\n",
    "# Set axis limits\n",
    "plt.xlim(-1, 5)\n",
    "plt.ylim(-1, 5)\n",
    "\n",
    "# Add labels and title\n",
    "plt.title(f'Vectors u and w with Dot Product u·w = {dot_uw}')\n",
    "plt.xlabel('x')\n",
    "plt.ylabel('y')\n",
    "\n",
    "# Add grid and legend\n",
    "plt.grid(True, alpha=0.3)\n",
    "plt.legend()\n",
    "plt.show()\n",
    "\n",
    "# Calculate the angle between vectors for additional insight\n",
    "cos_theta = dot_uw / (np.linalg.norm(u) * np.linalg.norm(w))\n",
    "angle_rad = np.arccos(cos_theta)\n",
    "angle_deg = np.degrees(angle_rad)\n",
    "\n",
    "print(f\"Additional Information:\")\n",
    "print(f\"Angle between u and w: {angle_deg:.1f}°\")\n",
    "print(f\"Since the dot product is {dot_uw} > 0, the vectors point in similar directions\")"
   ]
  },
  {
   "cell_type": "markdown",
   "id": "3c99fa00",
   "metadata": {},
   "source": [
    "## 3. Properties of the Dot Product\n",
    "\n",
    "The dot product has several important mathematical properties that make it useful in various applications:\n",
    "\n",
    "### 3.1 Commutativity\n",
    "**u · w = w · u** (order doesn't matter)"
   ]
  },
  {
   "cell_type": "code",
   "execution_count": 6,
   "id": "e2b38bb9",
   "metadata": {},
   "outputs": [
    {
     "name": "stdout",
     "output_type": "stream",
     "text": [
      "Commutativity Property:\n",
      "u · w = 11\n",
      "w · u = 11\n",
      "Equal? True\n",
      "✓ The dot product is commutative\n"
     ]
    }
   ],
   "source": [
    "# Demonstrate commutativity: u · w should equal w · u\n",
    "dot_wu = np.dot(w, u)\n",
    "\n",
    "print(\"Commutativity Property:\")\n",
    "print(f\"u · w = {dot_uw}\")\n",
    "print(f\"w · u = {dot_wu}\")\n",
    "print(f\"Equal? {dot_uw == dot_wu}\")\n",
    "print(\"✓ The dot product is commutative\")"
   ]
  },
  {
   "cell_type": "markdown",
   "id": "e18ffd58",
   "metadata": {},
   "source": [
    "### 3.2 Distributivity\n",
    "**u · (w + t) = u · w + u · t** (dot product distributes over addition)"
   ]
  },
  {
   "cell_type": "code",
   "execution_count": 7,
   "id": "c10b2af3",
   "metadata": {},
   "outputs": [
    {
     "name": "stdout",
     "output_type": "stream",
     "text": [
      "Distributivity Property:\n",
      "u = [1 2], w = [3 4], t = [5 6]\n",
      "w + t = [ 8 10]\n",
      "\n",
      "Left side:  u · (w + t) = 28\n",
      "Right side: u · w + u · t = 11 + 17 = 28\n",
      "Equal? True\n",
      "✓ The dot product is distributive over addition\n"
     ]
    }
   ],
   "source": [
    "# Define a third vector t for distributivity demonstration\n",
    "t = np.array([5, 6])\n",
    "\n",
    "# Calculate u · (w + t)\n",
    "left = np.dot(u, w + t)\n",
    "\n",
    "# Calculate u · w + u · t\n",
    "right = np.dot(u, w) + np.dot(u, t)\n",
    "\n",
    "print(\"Distributivity Property:\")\n",
    "print(f\"u = {u}, w = {w}, t = {t}\")\n",
    "print(f\"w + t = {w + t}\")\n",
    "print(f\"\\nLeft side:  u · (w + t) = {left}\")\n",
    "print(f\"Right side: u · w + u · t = {np.dot(u, w)} + {np.dot(u, t)} = {right}\")\n",
    "print(f\"Equal? {left == right}\")\n",
    "print(\"✓ The dot product is distributive over addition\")"
   ]
  },
  {
   "cell_type": "markdown",
   "id": "7c144ffc",
   "metadata": {},
   "source": [
    "### 3.3 Scalar Associativity\n",
    "**u · (a×w) = a × (u · w)** (scalars can be factored out)"
   ]
  },
  {
   "cell_type": "code",
   "execution_count": 8,
   "id": "3fc05c1e",
   "metadata": {},
   "outputs": [
    {
     "name": "stdout",
     "output_type": "stream",
     "text": [
      "Scalar Associativity Property:\n",
      "u = [1 2], w = [3 4], scalar a = 2\n",
      "a × w = [6 8]\n",
      "\n",
      "Left side:  u · (a×w) = u · [6 8] = 22\n",
      "Right side: a × (u · w) = 2 × 11 = 22\n",
      "Equal? True\n",
      "✓ Scalars can be factored out of dot products\n"
     ]
    }
   ],
   "source": [
    "# Define a scalar for associativity demonstration\n",
    "a = 2\n",
    "\n",
    "# Calculate u · (a×w)\n",
    "assoc_left = np.dot(u, a * w)\n",
    "\n",
    "# Calculate a × (u · w)\n",
    "assoc_right = a * np.dot(u, w)\n",
    "\n",
    "print(\"Scalar Associativity Property:\")\n",
    "print(f\"u = {u}, w = {w}, scalar a = {a}\")\n",
    "print(f\"a × w = {a * w}\")\n",
    "print(f\"\\nLeft side:  u · (a×w) = u · {a * w} = {assoc_left}\")\n",
    "print(f\"Right side: a × (u · w) = {a} × {np.dot(u, w)} = {assoc_right}\")\n",
    "print(f\"Equal? {assoc_left == assoc_right}\")\n",
    "print(\"✓ Scalars can be factored out of dot products\")"
   ]
  },
  {
   "cell_type": "markdown",
   "id": "366796d0",
   "metadata": {},
   "source": [
    "## 4. Relationship Between Dot Product and Vector Magnitude\n",
    "\n",
    "An important connection exists between the dot product and vector magnitude:\n",
    "\n",
    "**v · v = |v|²**\n",
    "\n",
    "This means the dot product of a vector with itself equals the square of its magnitude. This relationship is fundamental in many mathematical and computational applications."
   ]
  },
  {
   "cell_type": "code",
   "execution_count": 9,
   "id": "e6623714",
   "metadata": {},
   "outputs": [
    {
     "name": "stdout",
     "output_type": "stream",
     "text": [
      "Relationship: v · v = |v|²\n",
      "Vector v = [3 4]\n",
      "\n",
      "v · v = 25\n",
      "|v|² = (5.0)² = 25.0\n",
      "\n",
      "Verification: v · v = |v|² ? 25 = 25.0 ✓\n",
      "\n",
      "Therefore: |v| = √(v · v) = √25 = 5.0\n",
      "This matches our earlier calculation: |v| = 5.0\n",
      "\n",
      "💡 Key Insight: The magnitude of a vector is the square root of its dot product with itself!\n"
     ]
    }
   ],
   "source": [
    "# Demonstrate the relationship between dot product and vector magnitude\n",
    "print(\"Relationship: v · v = |v|²\")\n",
    "print(f\"Vector v = {v}\")\n",
    "\n",
    "# Calculate v · v (dot product of vector with itself)\n",
    "dot_vv = np.dot(v, v)\n",
    "print(f\"\\nv · v = {dot_vv}\")\n",
    "\n",
    "# Calculate |v|² (magnitude squared)\n",
    "magnitude_squared = mod_v ** 2\n",
    "print(f\"|v|² = ({mod_v})² = {magnitude_squared}\")\n",
    "\n",
    "print(f\"\\nVerification: v · v = |v|² ? {dot_vv} = {magnitude_squared} ✓\")\n",
    "\n",
    "# Show that magnitude can be computed from dot product\n",
    "magnitude_from_dot = np.sqrt(dot_vv)\n",
    "print(f\"\\nTherefore: |v| = √(v · v) = √{dot_vv} = {magnitude_from_dot}\")\n",
    "print(f\"This matches our earlier calculation: |v| = {mod_v}\")\n",
    "\n",
    "print(\"\\n💡 Key Insight: The magnitude of a vector is the square root of its dot product with itself!\")"
   ]
  },
  {
   "cell_type": "code",
   "execution_count": null,
   "id": "7130059f",
   "metadata": {},
   "outputs": [],
   "source": []
  }
 ],
 "metadata": {
  "kernelspec": {
   "display_name": "marco",
   "language": "python",
   "name": "python3"
  },
  "language_info": {
   "codemirror_mode": {
    "name": "ipython",
    "version": 3
   },
   "file_extension": ".py",
   "mimetype": "text/x-python",
   "name": "python",
   "nbconvert_exporter": "python",
   "pygments_lexer": "ipython3",
   "version": "3.11.13"
  }
 },
 "nbformat": 4,
 "nbformat_minor": 5
}
