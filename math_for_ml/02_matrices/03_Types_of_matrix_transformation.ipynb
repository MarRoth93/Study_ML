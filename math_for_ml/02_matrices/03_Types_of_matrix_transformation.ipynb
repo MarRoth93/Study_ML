{
 "cells": [
  {
   "cell_type": "markdown",
   "id": "1aeebfa9",
   "metadata": {},
   "source": [
    "# Types of Matrix Transformations — Educational Notebook\n",
    "\n",
    "In this notebook, we’ll explore:\n",
    "- The **identity transformation**\n",
    "- **Scaling** (stretching/squishing)\n",
    "- **Reflections** (mirroring)\n",
    "- **Inversions**\n",
    "- **Shearing**\n",
    "- **Rotations**\n",
    "\n",
    "Each transformation is represented by a 2×2 matrix that acts on vectors to change their direction, length, or orientation in space."
   ]
  },
  {
   "cell_type": "code",
   "execution_count": null,
   "id": "350ee195",
   "metadata": {},
   "outputs": [],
   "source": [
    "import numpy as np\n",
    "import matplotlib.pyplot as plt\n",
    "\n",
    "def plot_transformation(A, title, grid_range=2):\n",
    "    \"\"\"Plot the effect of transformation matrix A on a unit square and basis vectors.\"\"\"\n",
    "    fig, ax = plt.subplots(figsize=(5, 5))\n",
    "    \n",
    "    # Original basis\n",
    "    e1 = np.array([1, 0])\n",
    "    e2 = np.array([0, 1])\n",
    "    \n",
    "    # Transformed basis\n",
    "    Ae1 = A @ e1\n",
    "    Ae2 = A @ e2\n",
    "\n",
    "    # Plot original and transformed basis vectors\n",
    "    ax.quiver(0, 0, e1[0], e1[1], color='gray', angles='xy', scale_units='xy', scale=1, label='e1')\n",
    "    ax.quiver(0, 0, e2[0], e2[1], color='gray', angles='xy', scale_units='xy', scale=1, label='e2')\n",
    "\n",
    "    ax.quiver(0, 0, Ae1[0], Ae1[1], color='blue', angles='xy', scale_units='xy', scale=1, label='A @ e1')\n",
    "    ax.quiver(0, 0, Ae2[0], Ae2[1], color='green', angles='xy', scale_units='xy', scale=1, label='A @ e2')\n",
    "\n",
    "    # Plot transformed unit square\n",
    "    square = np.array([[0, 0], [1, 0], [1, 1], [0, 1], [0, 0]])\n",
    "    transformed = (A @ square.T).T\n",
    "    ax.plot(transformed[:, 0], transformed[:, 1], color='red', label='Transformed Unit Square')\n",
    "\n",
    "    ax.set_xlim(-grid_range, grid_range)\n",
    "    ax.set_ylim(-grid_range, grid_range)\n",
    "    ax.set_aspect('equal')\n",
    "    ax.grid(True)\n",
    "    ax.legend()\n",
    "    ax.set_title(title)\n",
    "    plt.show()"
   ]
  },
  {
   "cell_type": "markdown",
   "id": "b4146bc5",
   "metadata": {},
   "source": [
    "## 1. Identity Matrix\n",
    "\n",
    "\\[\n",
    "I = \\begin{bmatrix} 1 & 0 \\\\ 0 & 1 \\end{bmatrix}\n",
    "\\]\n",
    "\n",
    "This does **nothing** to space — it preserves all vectors as they are."
   ]
  },
  {
   "cell_type": "code",
   "execution_count": null,
   "id": "fc169bdc",
   "metadata": {},
   "outputs": [],
   "source": [
    "A = np.array([[1, 0],[0, 1]])\n",
    "plot_transformation(A, \"Identity Transformation\")"
   ]
  },
  {
   "cell_type": "markdown",
   "id": "691bc42d",
   "metadata": {},
   "source": [
    "## 2. Scaling\n",
    "\n",
    "\\[\n",
    "A = \\begin{bmatrix} 3 & 0 \\\\ 0 & 2 \\end{bmatrix}\n",
    "\\]\n",
    "\n",
    "- Stretches x-axis by 3×\n",
    "- Stretches y-axis by 2×"
   ]
  },
  {
   "cell_type": "code",
   "execution_count": null,
   "id": "5b3151db",
   "metadata": {},
   "outputs": [],
   "source": [
    "A = np.array([[3, 0],[0, 2]])\n",
    "plot_transformation(A, \"Scaling Transformation (3× on x, 2× on y)\")"
   ]
  },
  {
   "cell_type": "markdown",
   "id": "d108f840",
   "metadata": {},
   "source": [
    "## 3. Reflection (Flip on Vertical Axis)\n",
    "\n",
    "\\[\n",
    "A = \\begin{bmatrix} -1 & 0 \\\\ 0 & 1 \\end{bmatrix}\n",
    "\\]\n",
    "\n",
    "Flips the space across the **y-axis**."
   ]
  },
  {
   "cell_type": "code",
   "execution_count": null,
   "id": "c09f85e4",
   "metadata": {},
   "outputs": [],
   "source": [
    "A = np.array([[-1, 0],[0, 1]])\n",
    "plot_transformation(A, \"Reflection over Y-axis\")"
   ]
  },
  {
   "cell_type": "markdown",
   "id": "da69e806",
   "metadata": {},
   "source": [
    "## 4. Inversion (Flip Both Axes)\n",
    "\n",
    "\\[\n",
    "A = \\begin{bmatrix} -1 & 0 \\\\ 0 & -1 \\end{bmatrix}\n",
    "\\]\n",
    "\n",
    "Flips both x and y — a **180° rotation**."
   ]
  },
  {
   "cell_type": "code",
   "execution_count": null,
   "id": "6ce68a4b",
   "metadata": {},
   "outputs": [],
   "source": [
    "A = np.array([[-1, 0],[0, -1]])\n",
    "plot_transformation(A, \"Inversion (Flip Both Axes)\")"
   ]
  },
  {
   "cell_type": "markdown",
   "id": "90910f1d",
   "metadata": {},
   "source": [
    "## 5. Shear Transformation\n",
    "\n",
    "\\[\n",
    "A = \\begin{bmatrix} 1 & 1 \\\\ 0 & 1 \\end{bmatrix}\n",
    "\\]\n",
    "\n",
    "Turns the square into a **parallelogram**."
   ]
  },
  {
   "cell_type": "code",
   "execution_count": null,
   "id": "08528665",
   "metadata": {},
   "outputs": [],
   "source": [
    "A = np.array([[1, 1],[0, 1]])\n",
    "plot_transformation(A, \"Shear (X depends on Y)\")"
   ]
  },
  {
   "cell_type": "markdown",
   "id": "9bbc9f4c",
   "metadata": {},
   "source": [
    "## 6. Rotation by 90° Counterclockwise\n",
    "\n",
    "\\[\n",
    "A = \\begin{bmatrix} 0 & -1 \\\\ 1 & 0 \\end{bmatrix}\n",
    "\\]"
   ]
  },
  {
   "cell_type": "code",
   "execution_count": null,
   "id": "6b156da1",
   "metadata": {},
   "outputs": [],
   "source": [
    "A = np.array([[0, -1],[1, 0]])\n",
    "plot_transformation(A, \"Rotation by 90° CCW\")"
   ]
  },
  {
   "cell_type": "markdown",
   "id": "2cab9c9d",
   "metadata": {},
   "source": [
    "## 7. General Rotation by Angle θ\n",
    "\n",
    "Let’s rotate by θ = 45° (π/4 radians)\n",
    "\n",
    "\\[\n",
    "A = \\begin{bmatrix} \\cosθ & -\\sinθ \\\\ \\sinθ & \\cosθ \\end{bmatrix}\n",
    "\\]"
   ]
  },
  {
   "cell_type": "code",
   "execution_count": null,
   "id": "0e2397ad",
   "metadata": {},
   "outputs": [],
   "source": [
    "A = theta = np.pi / 4\n",
    "np.array([[np.cos(theta), -np.sin(theta)], [np.sin(theta), np.cos(theta)]])\n",
    "plot_transformation(A, \"Rotation by 45°\")"
   ]
  },
  {
   "cell_type": "markdown",
   "id": "e12c229e",
   "metadata": {},
   "source": [
    "## ✅ Summary\n",
    "\n",
    "| Transformation Type | Matrix Form | Effect |\n",
    "|---------------------|-------------|--------|\n",
    "| Identity            | \\(\\begin{bmatrix} 1 & 0 \\\\ 0 & 1 \\end{bmatrix}\\) | No change |\n",
    "| Scaling             | \\(\\begin{bmatrix} a & 0 \\\\ 0 & b \\end{bmatrix}\\) | Stretch or squash axes |\n",
    "| Reflection          | e.g. \\(\\begin{bmatrix} -1 & 0 \\\\ 0 & 1 \\end{bmatrix}\\) | Flip over axis |\n",
    "| Inversion           | \\(\\begin{bmatrix} -1 & 0 \\\\ 0 & -1 \\end{bmatrix}\\) | Flip both axes |\n",
    "| Shear               | \\(\\begin{bmatrix} 1 & s \\\\ 0 & 1 \\end{bmatrix}\\) | Slant space |\n",
    "| Rotation            | Depends on θ | Rotates space |\n",
    "\n",
    "Try combining transformations next, or visualizing how data is rotated or reflected!"
   ]
  }
 ],
 "metadata": {},
 "nbformat": 4,
 "nbformat_minor": 5
}