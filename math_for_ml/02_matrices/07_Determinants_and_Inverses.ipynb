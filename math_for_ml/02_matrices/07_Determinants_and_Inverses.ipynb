{
 "cells": [
  {
   "cell_type": "markdown",
   "id": "27359cc6",
   "metadata": {},
   "source": [
    "# Determinants and Inverses — Educational Notebook\n",
    "\n",
    "In this notebook, we explore:\n",
    "- What a determinant is\n",
    "- How it relates to area and space scaling\n",
    "- What it means when the determinant is zero\n",
    "- How the determinant is used in calculating a matrix inverse\n",
    "\n",
    "Understanding determinants helps us know when a transformation is reversible, and how space is distorted."
   ]
  },
  {
   "cell_type": "code",
   "execution_count": null,
   "id": "df06a65f",
   "metadata": {},
   "outputs": [],
   "source": [
    "import numpy as np\n",
    "import matplotlib.pyplot as plt"
   ]
  },
  {
   "cell_type": "markdown",
   "id": "bcbc7e3d",
   "metadata": {},
   "source": [
    "## 1. Geometric Interpretation of Determinants\n",
    "\n",
    "Let’s consider a matrix:\n",
    "\\[\n",
    "A = \\begin{bmatrix} a & 0 \\\\ 0 & d \\end{bmatrix}\n",
    "\\]\n",
    "\n",
    "This matrix scales the x-axis by \\( a \\), and the y-axis by \\( d \\).\n",
    "The **area scaling** is \\( a \\cdot d \\), which is the **determinant** of A."
   ]
  },
  {
   "cell_type": "code",
   "execution_count": null,
   "id": "371c8d04",
   "metadata": {},
   "outputs": [],
   "source": [
    "# Define a diagonal matrix\n",
    "A = np.array([[3, 0], [0, 2]])\n",
    "det_A = np.linalg.det(A)\n",
    "print(f\"Determinant of A: {det_A:.2f}\")"
   ]
  },
  {
   "cell_type": "markdown",
   "id": "072b2695",
   "metadata": {},
   "source": [
    "### Area interpretation\n",
    "\n",
    "A 1×1 square becomes a rectangle of area equal to the determinant. Let’s plot this."
   ]
  },
  {
   "cell_type": "code",
   "execution_count": null,
   "id": "67368cec",
   "metadata": {},
   "outputs": [],
   "source": [
    "# Plot original unit square and transformed shape\n",
    "square = np.array([[0, 0], [1, 0], [1, 1], [0, 1], [0, 0]]).T\n",
    "transformed = A @ square\n",
    "\n",
    "plt.figure(figsize=(5, 5))\n",
    "plt.plot(*square, 'k--', label='Unit Square')\n",
    "plt.plot(*transformed, 'r-', label='Transformed Shape')\n",
    "plt.gca().set_aspect('equal')\n",
    "plt.grid(True)\n",
    "plt.legend()\n",
    "plt.title(\"Geometric Meaning of Determinant\")\n",
    "plt.show()"
   ]
  },
  {
   "cell_type": "markdown",
   "id": "0f2d8076",
   "metadata": {},
   "source": [
    "## 2. General 2×2 Matrix Determinant\n",
    "\n",
    "For matrix:\n",
    "\\[\n",
    "A = \\begin{bmatrix} a & b \\\\ c & d \\end{bmatrix},\n",
    "\\]\n",
    "the determinant is:\n",
    "\\[\n",
    "\\text{det}(A) = ad - bc\n",
    "\\]\n",
    "This value represents the **signed area** of the parallelogram defined by the column vectors."
   ]
  },
  {
   "cell_type": "code",
   "execution_count": null,
   "id": "58545726",
   "metadata": {},
   "outputs": [],
   "source": [
    "A = np.array([[2, 3], [1, 4]])\n",
    "det_A = np.linalg.det(A)\n",
    "print(\"Determinant (ad - bc) =\", det_A)"
   ]
  },
  {
   "cell_type": "markdown",
   "id": "e31515fe",
   "metadata": {},
   "source": [
    "## 3. When the Determinant is Zero\n",
    "\n",
    "A zero determinant means the transformation **collapses space** — it flattens it into a line or point.\n",
    "This makes the matrix **non-invertible**.\n",
    "\n",
    "Let’s see an example where two columns are linearly dependent."
   ]
  },
  {
   "cell_type": "code",
   "execution_count": null,
   "id": "97ab949b",
   "metadata": {},
   "outputs": [],
   "source": [
    "A_singular = np.array([[1, 2], [2, 4]])  # Columns are linearly dependent\n",
    "print(\"Determinant =\", np.linalg.det(A_singular))"
   ]
  },
  {
   "cell_type": "markdown",
   "id": "a47e06a5",
   "metadata": {},
   "source": [
    "## 4. Determinant and the Inverse\n",
    "\n",
    "For a 2×2 matrix:\n",
    "\\[\n",
    "A = \\begin{bmatrix} a & b \\\\ c & d \\end{bmatrix}\n",
    "\\]\n",
    "The inverse is given by:\n",
    "\\[\n",
    "A^{-1} = \\frac{1}{ad - bc} \\begin{bmatrix} d & -b \\\\ -c & a \\end{bmatrix}\n",
    "\\]\n",
    "But only if \\( ad - bc \\neq 0 \\)"
   ]
  },
  {
   "cell_type": "code",
   "execution_count": null,
   "id": "f0024dcc",
   "metadata": {},
   "outputs": [],
   "source": [
    "# Define A and compute its inverse using the determinant manually\n",
    "A = np.array([[2, 1], [3, 2]])\n",
    "det = np.linalg.det(A)\n",
    "\n",
    "if det != 0:\n",
    "    A_inv = (1 / det) * np.array([[A[1,1], -A[0,1]], [-A[1,0], A[0,0]]])\n",
    "    print(\"Inverse of A:\\n\", A_inv)\n",
    "else:\n",
    "    print(\"Matrix is singular; no inverse.\")"
   ]
  },
  {
   "cell_type": "markdown",
   "id": "0ba1f84c",
   "metadata": {},
   "source": [
    "## ✅ Summary\n",
    "\n",
    "- The **determinant** measures how a matrix scales space (area/volume)\n",
    "- If det = 0, the matrix **collapses dimensions** and is **non-invertible**\n",
    "- In 2×2, inverse uses the formula:\n",
    "  \\( A^{-1} = \\frac{1}{\\text{det}} \\cdot \\text{adjugate} \\)\n",
    "\n",
    "Understanding the determinant is key for solving systems, analyzing transformations, and checking invertibility."
   ]
  }
 ],
 "metadata": {},
 "nbformat": 4,
 "nbformat_minor": 5
}