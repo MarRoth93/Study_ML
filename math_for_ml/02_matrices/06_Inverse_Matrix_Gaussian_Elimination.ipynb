{
 "cells": [
  {
   "cell_type": "markdown",
   "id": "103ccf9a",
   "metadata": {},
   "source": [
    "# From Gaussian Elimination to Matrix Inversion — Educational Notebook\n",
    "\n",
    "This notebook shows how to compute the **inverse of a matrix** using Gaussian elimination.\n",
    "We extend the method from solving one equation to solving for **all possible outputs**, yielding the full inverse.\n",
    "\n",
    "Steps:\n",
    "- Augment matrix A with identity matrix I\n",
    "- Apply Gaussian elimination to reduce A to the identity\n",
    "- The transformed I becomes A⁻¹"
   ]
  },
  {
   "cell_type": "code",
   "execution_count": null,
   "id": "3a328d56",
   "metadata": {},
   "outputs": [],
   "source": [
    "import numpy as np\n",
    "import matplotlib.pyplot as plt"
   ]
  },
  {
   "cell_type": "markdown",
   "id": "e3528064",
   "metadata": {},
   "source": [
    "## 1. Define Matrix A (3×3 Example)\n",
    "\n",
    "We use a 3×3 matrix:\n",
    "\\[\n",
    "A = \\begin{bmatrix} 1 & 1 & 3 \\\\ 1 & 2 & 4 \\\\ 1 & 1 & 2 \\end{bmatrix}\n",
    "\\]\n",
    "\n",
    "We want to find its inverse."
   ]
  },
  {
   "cell_type": "code",
   "execution_count": null,
   "id": "8b94477a",
   "metadata": {},
   "outputs": [],
   "source": [
    "# Matrix A\n",
    "A = np.array([\n",
    "    [1, 1, 3],\n",
    "    [1, 2, 4],\n",
    "    [1, 1, 2]\n",
    "], dtype=float)\n",
    "\n",
    "# Identity matrix\n",
    "I = np.eye(3)\n",
    "\n",
    "# Augment A with I\n",
    "AI = np.hstack((A, I))\n",
    "print(\"Augmented matrix [A | I]:\\n\", AI)"
   ]
  },
  {
   "cell_type": "markdown",
   "id": "56fb29c9",
   "metadata": {},
   "source": [
    "## 2. Gaussian Elimination on [A | I]\n",
    "\n",
    "Transform the left side to the identity matrix. The right side becomes the inverse."
   ]
  },
  {
   "cell_type": "code",
   "execution_count": null,
   "id": "d3d0fe0d",
   "metadata": {},
   "outputs": [],
   "source": [
    "# Step 1: Eliminate entries below A[0,0]\n",
    "AI[1] -= AI[0]   # Row2 - Row1\n",
    "AI[2] -= AI[0]   # Row3 - Row1\n",
    "\n",
    "# Step 2: Eliminate entry below A[1,1]\n",
    "AI[2] -= AI[1]   # Row3 - Row2\n",
    "\n",
    "# Step 3: Normalize rows\n",
    "AI[2] /= AI[2, 2]\n",
    "AI[1] -= AI[1, 2] * AI[2]\n",
    "AI[0] -= AI[0, 2] * AI[2]\n",
    "\n",
    "AI[1] /= AI[1, 1]\n",
    "AI[0] -= AI[0, 1] * AI[1]\n",
    "AI[0] /= AI[0, 0]\n",
    "\n",
    "print(\"\\nReduced [I | A⁻¹]:\\n\", AI)"
   ]
  },
  {
   "cell_type": "markdown",
   "id": "be2af0c9",
   "metadata": {},
   "source": [
    "## 3. Extract the Inverse Matrix\n",
    "\n",
    "The right-hand side is now the inverse of A:"
   ]
  },
  {
   "cell_type": "code",
   "execution_count": null,
   "id": "4cdf5f11",
   "metadata": {},
   "outputs": [],
   "source": [
    "A_inv = AI[:, 3:]\n",
    "print(\"Inverse of A:\\n\", A_inv)\n",
    "\n",
    "# Verify: A @ A_inv should be the identity\n",
    "print(\"\\nCheck A @ A_inv = I:\\n\", np.round(A @ A_inv, 2))"
   ]
  },
  {
   "cell_type": "markdown",
   "id": "338e909f",
   "metadata": {},
   "source": [
    "## ✅ Summary\n",
    "\n",
    "- Gaussian elimination can solve a system *and* compute an inverse\n",
    "- Augment A with I → reduce A to I\n",
    "- Resulting right side is A⁻¹\n",
    "\n",
    "This method works in general and forms the basis for matrix inversion in numerical software."
   ]
  }
 ],
 "metadata": {},
 "nbformat": 4,
 "nbformat_minor": 5
}