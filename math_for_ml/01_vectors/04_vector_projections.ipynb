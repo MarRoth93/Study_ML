{
 "cells": [
  {
   "cell_type": "markdown",
   "id": "0a44aff2",
   "metadata": {},
   "source": [
    "# Vector Projections — Educational Notebook\n",
    "\n",
    "In this notebook, we explore the concept of projecting one vector onto another.\n",
    "We'll cover:\n",
    "- Scalar projection (a number)\n",
    "- Vector projection (a vector in the same direction as the reference)\n",
    "- The link to the dot product\n",
    "- Orthogonality and geometric intuition\n",
    "\n",
    "---\n",
    "\n",
    "## 1. What is a Projection?\n",
    "\n",
    "A **projection** is like the \"shadow\" of one vector onto another.\n",
    "\n",
    "Imagine vector **S** being cast onto vector **R**.\n",
    "The projection of **S** onto **R** answers the question:\n",
    "\n",
    "> *How much of vector S lies in the direction of vector R?*\n",
    "\n",
    "This \"amount\" can be:\n",
    "- a **scalar** (magnitude only)\n",
    "- a **vector** (with direction along R)\n"
   ]
  },
  {
   "cell_type": "code",
   "execution_count": 2,
   "id": "69c9bdb2",
   "metadata": {},
   "outputs": [
    {
     "name": "stdout",
     "output_type": "stream",
     "text": [
      "Scalar projection of S onto R: 3.16\n",
      "Vector projection of S onto R: [3. 1.]\n"
     ]
    }
   ],
   "source": [
    "import numpy as np\n",
    "import matplotlib.pyplot as plt\n",
    "\n",
    "# Define vectors R and S\n",
    "R = np.array([3, 1])\n",
    "S = np.array([2, 4])\n",
    "\n",
    "# Compute dot product and norms\n",
    "dot_RS = np.dot(R, S)\n",
    "norm_R = np.linalg.norm(R)\n",
    "norm_S = np.linalg.norm(S)\n",
    "\n",
    "# Scalar projection of S onto R\n",
    "scalar_proj = dot_RS / norm_R\n",
    "\n",
    "# Vector projection of S onto R\n",
    "vector_proj = (dot_RS / norm_R**2) * R\n",
    "\n",
    "print(f\"Scalar projection of S onto R: {scalar_proj:.2f}\")\n",
    "print(f\"Vector projection of S onto R: {vector_proj}\")\n"
   ]
  },
  {
   "cell_type": "markdown",
   "id": "5eb2ad5d",
   "metadata": {},
   "source": [
    "## 2. Scalar Projection\n",
    "\n",
    "The **scalar projection** (sometimes called the *component*) of $\\vec{S}$ onto $\\vec{R}$ is:\n",
    "\n",
    "$$\\text{scalar\\_proj} = \\frac{\\vec{S} \\cdot \\vec{R}}{\\| \\vec{R} \\|}$$\n",
    "\n",
    "This gives a number: how far $\\vec{S}$ goes in the direction of $\\vec{R}$, regardless of $\\vec{R}$'s length.\n",
    "\n",
    "---\n",
    "\n",
    "## 3. Vector Projection\n",
    "\n",
    "The **vector projection** of $\\vec{S}$ onto $\\vec{R}$ is a new vector that lies along $\\vec{R}$, with length equal to the scalar projection:\n",
    "\n",
    "$$\\text{vector\\_proj} = \\left( \\frac{\\vec{S} \\cdot \\vec{R}}{\\vec{R} \\cdot \\vec{R}} \\right) \\vec{R}$$\n",
    "\n",
    "This is useful when we want both magnitude and direction.\n"
   ]
  },
  {
   "cell_type": "code",
   "execution_count": 7,
   "id": "94a1a270",
   "metadata": {},
   "outputs": [
    {
     "data": {
      "image/png": "[encoded data removed]",
      "text/plain": [
       "<Figure size 800x600 with 1 Axes>"
      ]
     },
     "metadata": {},
     "output_type": "display_data"
    },
    {
     "name": "stdout",
     "output_type": "stream",
     "text": [
      "R = [3 1]\n",
      "S = [2 4]\n",
      "Vector projection of S onto R = [3. 1.]\n"
     ]
    }
   ],
   "source": [
    "# Use the original non-orthogonal vectors for a visible projection\n",
    "R = np.array([3, 1])\n",
    "S = np.array([2, 4])\n",
    "\n",
    "# Recompute projections with these vectors\n",
    "dot_RS = np.dot(R, S)\n",
    "vector_proj = (dot_RS / np.dot(R, R)) * R\n",
    "\n",
    "# Create a clearer visualization with non-orthogonal vectors\n",
    "plt.figure(figsize=(8, 6))\n",
    "ax = plt.gca()\n",
    "\n",
    "# Plot original vectors\n",
    "ax.quiver(0, 0, R[0], R[1], color='blue', angles='xy', scale_units='xy', scale=1, width=0.005, label='R')\n",
    "ax.quiver(0, 0, S[0], S[1], color='green', angles='xy', scale_units='xy', scale=1, width=0.005, label='S')\n",
    "\n",
    "# Plot projection\n",
    "ax.quiver(0, 0, vector_proj[0], vector_proj[1], color='red', angles='xy', scale_units='xy', scale=1, width=0.005, label='proj_R(S)')\n",
    "\n",
    "# Draw a dashed line from S to its projection to show the projection visually\n",
    "ax.plot([S[0], vector_proj[0]], [S[1], vector_proj[1]], 'k--', alpha=0.7, linewidth=2, label='perpendicular')\n",
    "\n",
    "# Set up the plot\n",
    "ax.set_xlim(-0.5, 4)\n",
    "ax.set_ylim(-0.5, 5)\n",
    "ax.set_aspect('equal')\n",
    "ax.axhline(0, color='gray', lw=0.5)\n",
    "ax.axvline(0, color='gray', lw=0.5)\n",
    "ax.legend()\n",
    "plt.title(\"Vector Projection of S onto R\")\n",
    "plt.grid(True, alpha=0.3)\n",
    "plt.show()\n",
    "\n",
    "print(f\"R = {R}\")\n",
    "print(f\"S = {S}\")\n",
    "print(f\"Vector projection of S onto R = {vector_proj}\")\n"
   ]
  },
  {
   "cell_type": "markdown",
   "id": "05a4a8b7",
   "metadata": {},
   "source": [
    "## 4. Orthogonality and Zero Projection\n",
    "\n",
    "If the angle $\\theta$ between vectors $\\vec{R}$ and $\\vec{S}$ is 90°, then:\n",
    "\n",
    "$$\\vec{R} \\cdot \\vec{S} = 0 \\quad \\Rightarrow \\quad \\text{scalar\\_proj} = 0 \\quad \\text{and} \\quad \\text{vector\\_proj} = \\vec{0}$$\n",
    "\n",
    "This means $\\vec{S}$ has no component in the direction of $\\vec{R}$.\n",
    "\n",
    "Let's test that.\n"
   ]
  },
  {
   "cell_type": "code",
   "execution_count": 5,
   "id": "716fb6f8",
   "metadata": {},
   "outputs": [
    {
     "name": "stdout",
     "output_type": "stream",
     "text": [
      "dot(R, S) = 0 (should be 0)\n",
      "scalar projection = 0.0\n",
      "vector projection = [0. 0.]\n"
     ]
    }
   ],
   "source": [
    "# Orthogonal case: R and S at 90 degrees\n",
    "R = np.array([1, 0])\n",
    "S = np.array([0, 2])\n",
    "\n",
    "dot_RS = np.dot(R, S)\n",
    "scalar_proj = dot_RS / np.linalg.norm(R)\n",
    "vector_proj = (dot_RS / np.dot(R, R)) * R\n",
    "\n",
    "print(f\"dot(R, S) = {dot_RS} (should be 0)\")\n",
    "print(f\"scalar projection = {scalar_proj}\")\n",
    "print(f\"vector projection = {vector_proj}\")\n"
   ]
  },
  {
   "cell_type": "markdown",
   "id": "a0d37011",
   "metadata": {},
   "source": [
    "✅ As expected, both scalar and vector projections are 0 when vectors are orthogonal.\n",
    "\n",
    "---\n",
    "\n",
    "## 5. Summary\n",
    "\n",
    "| Concept             | Formula                                                   | Type      |\n",
    "|---------------------|------------------------------------------------------------|-----------|\n",
    "| Scalar projection   | $\\frac{\\vec{S} \\cdot \\vec{R}}{ \\| \\vec{R} \\| }$        | Scalar    |\n",
    "| Vector projection   | $\\left( \\frac{\\vec{S} \\cdot \\vec{R}}{\\vec{R} \\cdot \\vec{R}} \\right) \\vec{R}$ | Vector |\n",
    "\n",
    "- Projections help us understand how much one vector contributes in the direction of another.\n",
    "- They're deeply connected to the dot product.\n",
    "- Useful in applications like physics, computer graphics, machine learning, and linear regression.\n",
    "\n",
    "---\n",
    "\n",
    "Try changing the vectors and exploring how the projections behave!\n"
   ]
  },
  {
   "cell_type": "markdown",
   "id": "10a57cfc",
   "metadata": {},
   "source": []
  }
 ],
 "metadata": {
  "kernelspec": {
   "display_name": "marco",
   "language": "python",
   "name": "python3"
  },
  "language_info": {
   "codemirror_mode": {
    "name": "ipython",
    "version": 3
   },
   "file_extension": ".py",
   "mimetype": "text/x-python",
   "name": "python",
   "nbconvert_exporter": "python",
   "pygments_lexer": "ipython3",
   "version": "3.11.13"
  }
 },
 "nbformat": 4,
 "nbformat_minor": 5
}
