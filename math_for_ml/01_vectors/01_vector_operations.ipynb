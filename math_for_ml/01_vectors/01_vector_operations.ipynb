{
 "cells": [
  {
   "cell_type": "markdown",
   "id": "2ca00d0f",
   "metadata": {},
   "source": [
    "# Vector Operations in NumPy\n",
    "\n",
    "This notebook demonstrates fundamental vector operations using NumPy, including:\n",
    "- Vector definition and representation\n",
    "- Basic arithmetic operations (addition, subtraction, scalar multiplication)\n",
    "- Practical applications in machine learning contexts"
   ]
  },
  {
   "cell_type": "code",
   "execution_count": 1,
   "id": "257cfefd",
   "metadata": {},
   "outputs": [],
   "source": [
    "# Import required libraries\n",
    "import numpy as np\n",
    "import matplotlib.pyplot as plt\n"
   ]
  },
  {
   "cell_type": "markdown",
   "id": "2a71ad55",
   "metadata": {},
   "source": [
    "## 1. Vector Definition\n",
    "\n",
    "Let's start by defining two vectors in 2D space:\n",
    "- **r** = 3**i** + 2**j** (vector pointing to coordinates [3, 2])\n",
    "- **s** = -1**i** + 2**j** (vector pointing to coordinates [-1, 2])"
   ]
  },
  {
   "cell_type": "code",
   "execution_count": 2,
   "id": "499d5ffa",
   "metadata": {},
   "outputs": [
    {
     "name": "stdout",
     "output_type": "stream",
     "text": [
      "Vector r: [3 2]\n",
      "Vector s: [-1  2]\n"
     ]
    }
   ],
   "source": [
    "# Define vectors\n",
    "r = np.array([3, 2])       # r = 3i + 2j\n",
    "s = np.array([-1, 2])      # s = -1i + 2j\n",
    "\n",
    "print(\"Vector r:\", r)\n",
    "print(\"Vector s:\", s)"
   ]
  },
  {
   "cell_type": "markdown",
   "id": "15a66afe",
   "metadata": {},
   "source": [
    "## 2. Vector Addition\n",
    "\n",
    "Vector addition combines two vectors component-wise:\n",
    "- **r + s** = [r₁ + s₁, r₂ + s₂]\n",
    "- Geometrically, this represents placing vectors end-to-end"
   ]
  },
  {
   "cell_type": "code",
   "execution_count": 3,
   "id": "fe9c7d8f",
   "metadata": {},
   "outputs": [
    {
     "name": "stdout",
     "output_type": "stream",
     "text": [
      "r + s = [2 4]\n",
      "Calculation: [3 + (-1), 2 + 2] = [2, 4]\n"
     ]
    }
   ],
   "source": [
    "# Vector addition\n",
    "r_plus_s = r + s\n",
    "print(\"r + s =\", r_plus_s) \n",
    "print(\"Calculation: [3 + (-1), 2 + 2] = [2, 4]\")"
   ]
  },
  {
   "cell_type": "markdown",
   "id": "6adeda4a",
   "metadata": {},
   "source": [
    "## 3. Vector Subtraction\n",
    "\n",
    "Vector subtraction finds the difference between two vectors:\n",
    "- **r - s** = [r₁ - s₁, r₂ - s₂]\n",
    "- Geometrically, this gives the vector from s to r"
   ]
  },
  {
   "cell_type": "code",
   "execution_count": 4,
   "id": "0f712094",
   "metadata": {},
   "outputs": [
    {
     "name": "stdout",
     "output_type": "stream",
     "text": [
      "r - s = [4 0]\n",
      "Calculation: [3 - (-1), 2 - 2] = [4, 0]\n"
     ]
    }
   ],
   "source": [
    "# Vector subtraction\n",
    "r_minus_s = r - s\n",
    "print(\"r - s =\", r_minus_s) \n",
    "print(\"Calculation: [3 - (-1), 2 - 2] = [4, 0]\")"
   ]
  },
  {
   "cell_type": "markdown",
   "id": "14d3ab17",
   "metadata": {},
   "source": [
    "## 4. Scalar Multiplication\n",
    "\n",
    "Scalar multiplication scales a vector by a constant:\n",
    "- **k × r** = [k × r₁, k × r₂]\n",
    "- Positive scalars maintain direction, negative scalars reverse it\n",
    "- Magnitude changes by the absolute value of the scalar"
   ]
  },
  {
   "cell_type": "code",
   "execution_count": 5,
   "id": "80dbadb4",
   "metadata": {},
   "outputs": [
    {
     "name": "stdout",
     "output_type": "stream",
     "text": [
      "2 * r = [6 4]\n",
      "-r = [-3 -2]\n"
     ]
    }
   ],
   "source": [
    "# Scalar multiplication\n",
    "two_r = 2 * r\n",
    "minus_r = -1 * r\n",
    "\n",
    "print(\"2 * r =\", two_r)      # Expected: [6 4] - doubles magnitude\n",
    "print(\"-r =\", minus_r)       # Expected: [-3 -2] - reverses direction"
   ]
  },
  {
   "cell_type": "markdown",
   "id": "5283495c",
   "metadata": {},
   "source": [
    "## 5. Practical Applications\n",
    "\n",
    "Vector operations are fundamental in machine learning and data science. Here are some practical examples:"
   ]
  },
  {
   "cell_type": "markdown",
   "id": "f2159930",
   "metadata": {},
   "source": [
    "### 5.1 Feature Engineering - Customer Behavior Analysis\n",
    "\n",
    "In customer analytics, we often need to combine and transform feature vectors. Let's explore how vector operations help in creating composite features and normalizing data."
   ]
  },
  {
   "cell_type": "code",
   "execution_count": 6,
   "id": "fdd71001",
   "metadata": {},
   "outputs": [
    {
     "name": "stdout",
     "output_type": "stream",
     "text": [
      "=== Individual Customer Profiles ===\n",
      "Customer A: [ 45.   12.    8.5 450. ] [sessions, purchases, hours, revenue]\n",
      "Customer B: [ 23.    8.    4.2 280. ]\n",
      "Customer C: [ 67.   15.   12.3 720. ]\n",
      "\n",
      "=== Household A+B Combined ===\n",
      "Combined behavior: [ 68.   20.   12.7 730. ]\n",
      "Total sessions: 68.0, Total revenue: $730.0\n",
      "\n",
      "=== Annual Projection (Customer A) ===\n",
      "Monthly: [ 45.   12.    8.5 450. ]\n",
      "Annual:  [ 540.  144.  102. 5400.]\n",
      "Projected annual revenue: $5400.0\n",
      "\n",
      "=== Customer A Improvement Analysis ===\n",
      "Before: [ 45.   12.    8.5 450. ]\n",
      "After:  [ 50.   15.    9.2 520. ]\n",
      "Change: [ 5.   3.   0.7 70. ]\n",
      "Revenue increase: $70.0\n",
      "\n",
      "=== Feature Normalization ===\n",
      "Mean behavior: [ 45.          11.66666667   8.33333333 483.33333333]\n",
      "Std deviation: [ 17.96292478   2.86744176   3.30891053 181.16904322]\n",
      "Customer A normalized: [ 0.          0.11624764  0.05036905 -0.18399023]\n",
      "Interpretation: Values > 0 are above average, < 0 are below average\n"
     ]
    }
   ],
   "source": [
    "# Customer behavior vectors: [sessions, purchases, time_spent(hrs), revenue($)]\n",
    "customer_a = np.array([45, 12, 8.5, 450])\n",
    "customer_b = np.array([23, 8, 4.2, 280])\n",
    "customer_c = np.array([67, 15, 12.3, 720])\n",
    "\n",
    "print(\"=== Individual Customer Profiles ===\")\n",
    "print(f\"Customer A: {customer_a} [sessions, purchases, hours, revenue]\")\n",
    "print(f\"Customer B: {customer_b}\")\n",
    "print(f\"Customer C: {customer_c}\")\n",
    "\n",
    "# Vector addition: Combined behavior (e.g., household analysis)\n",
    "household_ab = customer_a + customer_b\n",
    "print(f\"\\n=== Household A+B Combined ===\")\n",
    "print(f\"Combined behavior: {household_ab}\")\n",
    "print(f\"Total sessions: {household_ab[0]}, Total revenue: ${household_ab[3]}\")\n",
    "\n",
    "# Scalar multiplication: Projected annual behavior (monthly data × 12)\n",
    "annual_customer_a = 12 * customer_a\n",
    "print(f\"\\n=== Annual Projection (Customer A) ===\")\n",
    "print(f\"Monthly: {customer_a}\")\n",
    "print(f\"Annual:  {annual_customer_a}\")\n",
    "print(f\"Projected annual revenue: ${annual_customer_a[3]}\")\n",
    "\n",
    "# Vector subtraction: Customer improvement analysis\n",
    "improved_customer_a = np.array([50, 15, 9.2, 520])\n",
    "improvement = improved_customer_a - customer_a\n",
    "print(f\"\\n=== Customer A Improvement Analysis ===\")\n",
    "print(f\"Before: {customer_a}\")\n",
    "print(f\"After:  {improved_customer_a}\")\n",
    "print(f\"Change: {improvement}\")\n",
    "print(f\"Revenue increase: ${improvement[3]}\")\n",
    "\n",
    "# Feature normalization using vector operations\n",
    "customers = np.array([customer_a, customer_b, customer_c])\n",
    "mean_behavior = np.mean(customers, axis=0)\n",
    "std_behavior = np.std(customers, axis=0)\n",
    "\n",
    "print(f\"\\n=== Feature Normalization ===\")\n",
    "print(f\"Mean behavior: {mean_behavior}\")\n",
    "print(f\"Std deviation: {std_behavior}\")\n",
    "\n",
    "# Z-score normalization for Customer A\n",
    "normalized_a = (customer_a - mean_behavior) / std_behavior\n",
    "print(f\"Customer A normalized: {normalized_a}\")\n",
    "print(\"Interpretation: Values > 0 are above average, < 0 are below average\")"
   ]
  },
  {
   "cell_type": "markdown",
   "id": "1d0e5399",
   "metadata": {},
   "source": [
    "# Graphs"
   ]
  },
  {
   "cell_type": "code",
   "execution_count": 8,
   "id": "5ff2d1a9",
   "metadata": {},
   "outputs": [
    {
     "data": {
      "image/png": "[encoded data removed]",
      "text/plain": [
       "<Figure size 1800x500 with 2 Axes>"
      ]
     },
     "metadata": {},
     "output_type": "display_data"
    }
   ],
   "source": [
    "# Set up a figure with multiple subplots\n",
    "fig, axs = plt.subplots(1, 2, figsize=(18, 5))\n",
    "\n",
    "# -------------------------------\n",
    "# Plot 1: Vector Addition\n",
    "# -------------------------------\n",
    "r = np.array([3, 2])\n",
    "s = np.array([-1, 2])\n",
    "r_plus_s = r + s\n",
    "\n",
    "axs[0].quiver(0, 0, r[0], r[1], angles='xy', scale_units='xy', scale=1, color='r', label='r')\n",
    "axs[0].quiver(r[0], r[1], s[0], s[1], angles='xy', scale_units='xy', scale=1, color='b', label='s')\n",
    "axs[0].quiver(0, 0, r_plus_s[0], r_plus_s[1], angles='xy', scale_units='xy', scale=1, color='g', label='r + s')\n",
    "axs[0].set_xlim(-2, 5)\n",
    "axs[0].set_ylim(-1, 5)\n",
    "axs[0].set_title('Vector Addition')\n",
    "axs[0].grid()\n",
    "axs[0].legend()\n",
    "axs[0].set_aspect('equal')\n",
    "\n",
    "# -------------------------------\n",
    "# Plot 2: Scalar Multiplication\n",
    "# -------------------------------\n",
    "two_r = 2 * r\n",
    "minus_r = -1 * r\n",
    "\n",
    "axs[1].quiver(0, 0, r[0], r[1], angles='xy', scale_units='xy', scale=1, color='r', label='r')\n",
    "axs[1].quiver(0, 0, two_r[0], two_r[1], angles='xy', scale_units='xy', scale=1, color='b', label='2r')\n",
    "axs[1].quiver(0, 0, minus_r[0], minus_r[1], angles='xy', scale_units='xy', scale=1, color='g', label='-r')\n",
    "axs[1].set_xlim(-4, 7)\n",
    "axs[1].set_ylim(-4, 7)\n",
    "axs[1].set_title('Scalar Multiplication')\n",
    "axs[1].grid()\n",
    "axs[1].legend()\n",
    "axs[1].set_aspect('equal')\n",
    "\n",
    "\n",
    "\n",
    "plt.tight_layout()\n",
    "plt.show()\n"
   ]
  },
  {
   "cell_type": "code",
   "execution_count": null,
   "id": "54191d9f",
   "metadata": {},
   "outputs": [],
   "source": []
  }
 ],
 "metadata": {
  "kernelspec": {
   "display_name": "marco",
   "language": "python",
   "name": "python3"
  },
  "language_info": {
   "codemirror_mode": {
    "name": "ipython",
    "version": 3
   },
   "file_extension": ".py",
   "mimetype": "text/x-python",
   "name": "python",
   "nbconvert_exporter": "python",
   "pygments_lexer": "ipython3",
   "version": "3.11.13"
  }
 },
 "nbformat": 4,
 "nbformat_minor": 5
}
