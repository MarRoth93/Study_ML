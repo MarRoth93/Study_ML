{
 "cells": [
  {
   "cell_type": "markdown",
   "id": "2ca00d0f",
   "metadata": {},
   "source": [
    "# Vector Operations in NumPy\n",
    "\n",
    "This notebook demonstrates fundamental vector operations using NumPy, including:\n",
    "- Vector definition and representation\n",
    "- Basic arithmetic operations (addition, subtraction, scalar multiplication)\n",
    "- Practical applications in machine learning contexts"
   ]
  },
  {
   "cell_type": "code",
   "execution_count": null,
   "id": "257cfefd",
   "metadata": {},
   "outputs": [],
   "source": [
    "# Import required libraries\n",
    "import numpy as np"
   ]
  },
  {
   "cell_type": "markdown",
   "id": "2a71ad55",
   "metadata": {},
   "source": [
    "## 1. Vector Definition\n",
    "\n",
    "Let's start by defining two vectors in 2D space:\n",
    "- **r** = 3**i** + 2**j** (vector pointing to coordinates [3, 2])\n",
    "- **s** = -1**i** + 2**j** (vector pointing to coordinates [-1, 2])"
   ]
  },
  {
   "cell_type": "code",
   "execution_count": null,
   "id": "499d5ffa",
   "metadata": {},
   "outputs": [],
   "source": [
    "# Define vectors\n",
    "r = np.array([3, 2])       # r = 3i + 2j\n",
    "s = np.array([-1, 2])      # s = -1i + 2j\n",
    "\n",
    "print(\"Vector r:\", r)\n",
    "print(\"Vector s:\", s)"
   ]
  },
  {
   "cell_type": "markdown",
   "id": "15a66afe",
   "metadata": {},
   "source": [
    "## 2. Vector Addition\n",
    "\n",
    "Vector addition combines two vectors component-wise:\n",
    "- **r + s** = [r₁ + s₁, r₂ + s₂]\n",
    "- Geometrically, this represents placing vectors end-to-end"
   ]
  },
  {
   "cell_type": "code",
   "execution_count": null,
   "id": "fe9c7d8f",
   "metadata": {},
   "outputs": [],
   "source": [
    "# Vector addition\n",
    "r_plus_s = r + s\n",
    "print(\"r + s =\", r_plus_s)  # Expected: [2 4]\n",
    "print(\"Calculation: [3 + (-1), 2 + 2] = [2, 4]\")"
   ]
  },
  {
   "cell_type": "markdown",
   "id": "6adeda4a",
   "metadata": {},
   "source": [
    "## 3. Vector Subtraction\n",
    "\n",
    "Vector subtraction finds the difference between two vectors:\n",
    "- **r - s** = [r₁ - s₁, r₂ - s₂]\n",
    "- Geometrically, this gives the vector from s to r"
   ]
  },
  {
   "cell_type": "code",
   "execution_count": null,
   "id": "0f712094",
   "metadata": {},
   "outputs": [],
   "source": [
    "# Vector subtraction\n",
    "r_minus_s = r - s\n",
    "print(\"r - s =\", r_minus_s)  # Expected: [4 0]\n",
    "print(\"Calculation: [3 - (-1), 2 - 2] = [4, 0]\")"
   ]
  },
  {
   "cell_type": "markdown",
   "id": "14d3ab17",
   "metadata": {},
   "source": [
    "## 4. Scalar Multiplication\n",
    "\n",
    "Scalar multiplication scales a vector by a constant:\n",
    "- **k × r** = [k × r₁, k × r₂]\n",
    "- Positive scalars maintain direction, negative scalars reverse it\n",
    "- Magnitude changes by the absolute value of the scalar"
   ]
  },
  {
   "cell_type": "code",
   "execution_count": null,
   "id": "80dbadb4",
   "metadata": {},
   "outputs": [],
   "source": [
    "# Scalar multiplication\n",
    "two_r = 2 * r\n",
    "minus_r = -1 * r\n",
    "\n",
    "print(\"2 * r =\", two_r)      # Expected: [6 4] - doubles magnitude\n",
    "print(\"-r =\", minus_r)       # Expected: [-3 -2] - reverses direction"
   ]
  },
  {
   "cell_type": "markdown",
   "id": "5283495c",
   "metadata": {},
   "source": [
    "## 5. Practical Applications\n",
    "\n",
    "Vector operations are fundamental in machine learning and data science. Here are some practical examples:"
   ]
  },
  {
   "cell_type": "markdown",
   "id": "f2159930",
   "metadata": {},
   "source": [
    "### 5.1 Feature Vectors - House Attributes\n",
    "\n",
    "In real estate ML, house features can be represented as vectors. Scalar multiplication can represent scaling scenarios (e.g., buying multiple properties)."
   ]
  },
  {
   "cell_type": "code",
   "execution_count": null,
   "id": "fdd71001",
   "metadata": {},
   "outputs": [],
   "source": [
    "# Example: House features as a vector\n",
    "house = np.array([120, 2, 1, 150])  # [area(m²), bedrooms, bathrooms, price(€k)]\n",
    "two_houses = 2 * house              # What if we buy two identical houses?\n",
    "\n",
    "print(\"Single house features:\", house)\n",
    "print(\"Two houses combined:\", two_houses)\n",
    "print(\"Interpretation: [240m² total, 4 beds, 2 baths, 300k€ total]\")"
   ]
  },
  {
   "cell_type": "markdown",
   "id": "ac05359e",
   "metadata": {},
   "source": [
    "### 5.2 Parameter Optimization - Model Tuning\n",
    "\n",
    "In machine learning, model parameters can be represented as vectors. Vector addition helps us update parameters during optimization (like gradient descent)."
   ]
  },
  {
   "cell_type": "code",
   "execution_count": null,
   "id": "b33a9fe2",
   "metadata": {},
   "outputs": [],
   "source": [
    "# Example: Parameter optimization in a Gaussian model\n",
    "mu_sigma = np.array([1.7, 0.3])         # Initial guess for (mean, std_dev)\n",
    "delta = np.array([-0.1, 0.05])          # Gradient update direction\n",
    "new_mu_sigma = mu_sigma + delta          # New parameter values\n",
    "\n",
    "print(\"Initial parameters (μ, σ):\", mu_sigma)\n",
    "print(\"Parameter update Δ:\", delta)\n",
    "print(\"New parameters (μ, σ):\", new_mu_sigma)\n",
    "print(\"Interpretation: Mean decreased by 0.1, std_dev increased by 0.05\")"
   ]
  }
 ],
 "metadata": {
  "kernelspec": {
   "display_name": "marco",
   "language": "python",
   "name": "python3"
  },
  "language_info": {
   "codemirror_mode": {
    "name": "ipython",
    "version": 3
   },
   "file_extension": ".py",
   "mimetype": "text/x-python",
   "name": "python",
   "nbconvert_exporter": "python",
   "pygments_lexer": "ipython3",
   "version": "3.11.13"
  }
 },
 "nbformat": 4,
 "nbformat_minor": 5
}
