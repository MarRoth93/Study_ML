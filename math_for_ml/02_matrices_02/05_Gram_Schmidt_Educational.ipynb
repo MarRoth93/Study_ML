{
 "cells": [
  {
   "cell_type": "markdown",
   "id": "32ef8f36",
   "metadata": {},
   "source": [
    "\n",
    "# The Gram–Schmidt Process — From Intuition to QR\n",
    "\n",
    "**Goal:** Starting from linearly independent vectors \\(v_1,\\dots,v_n\\), construct an **orthonormal basis** \\(e_1,\\dots,e_n\\).\n",
    "This makes life easy: dot products become coordinates, inverses become transposes, and transformations stay well-behaved.\n",
    "\n",
    "We'll cover:\n",
    "- Visual & formula intuition for orthogonalizing via **projections**.\n",
    "- **Classical** and **Modified** Gram–Schmidt (numerical stability).\n",
    "- How Gram–Schmidt yields the **QR decomposition**.\n",
    "- Exercises with starter code and short solutions.\n"
   ]
  },
  {
   "cell_type": "code",
   "execution_count": null,
   "id": "2209c2c7",
   "metadata": {},
   "outputs": [],
   "source": [
    "\n",
    "import numpy as np\n",
    "import matplotlib.pyplot as plt\n",
    "\n",
    "np.set_printoptions(precision=4, suppress=True)\n",
    "print(\"Libraries ready.\")\n"
   ]
  },
  {
   "cell_type": "markdown",
   "id": "8820ac6a",
   "metadata": {},
   "source": [
    "\n",
    "## 1) Intuition: peel off the parallel parts\n",
    "\n",
    "Given a unit vector \\(e_1\\), any vector \\(v\\) splits as\n",
    "\\[ v = (v\\cdot e_1) e_1 \\; + \\; \\underbrace{\\big(v - (v\\cdot e_1)e_1\\big)}_{\\perp e_1}. \\]\n",
    "\n",
    "Repeat: at step \\(k\\), remove the components of \\(v_k\\) along \\(e_1,\\dots,e_{k-1}\\), then normalize:\n",
    "\\[\n",
    "u_k = v_k - \\sum_{i=1}^{k-1} (v_k\\cdot e_i) e_i, \\qquad e_k = \\frac{u_k}{\\|u_k\\|}.\n",
    "\\]\n",
    "\n",
    "If columns aren't unit, you can use the general projection formula  \n",
    "\\(\\operatorname{proj}_{u}(v) = \\frac{v\\cdot u}{u\\cdot u} u\\). Here we'll keep \\(e_i\\) unit.\n"
   ]
  },
  {
   "cell_type": "markdown",
   "id": "402478cd",
   "metadata": {},
   "source": [
    "\n",
    "## 2) Helper functions\n",
    "\n",
    "- `is_orthonormal(Q)`: checks \\(Q^TQ \\approx I\\)  \n",
    "- `classical_gs(V)`: Classical Gram–Schmidt (CGS)  \n",
    "- `modified_gs(V)`: Modified Gram–Schmidt (MGS) for better numerical stability  \n",
    "Both return \\(Q\\) (orthonormal columns) and \\(R\\) (upper triangular) so that \\(V \\approx Q R\\).\n"
   ]
  },
  {
   "cell_type": "code",
   "execution_count": null,
   "id": "2da56b57",
   "metadata": {},
   "outputs": [],
   "source": [
    "\n",
    "def is_orthonormal(Q, atol=1e-10):\n",
    "    I = Q.T @ Q\n",
    "    return np.allclose(I, np.eye(Q.shape[1]), atol=atol), I\n",
    "\n",
    "def classical_gs(V):\n",
    "    \"\"\"Classical Gram–Schmidt.\n",
    "    V: (m,n) with linearly independent columns.\n",
    "    Returns Q (m,n), R (n,n) so that V ≈ Q R and Q has orthonormal columns.\n",
    "    \"\"\"\n",
    "    m, n = V.shape\n",
    "    Q = np.zeros((m, n), dtype=float)\n",
    "    R = np.zeros((n, n), dtype=float)\n",
    "    for j in range(n):\n",
    "        v = V[:, j].astype(float).copy()\n",
    "        for i in range(j):\n",
    "            R[i, j] = Q[:, i] @ v\n",
    "            v = v - R[i, j] * Q[:, i]\n",
    "        R[j, j] = np.linalg.norm(v)\n",
    "        if R[j, j] == 0:\n",
    "            raise ValueError(\"Input columns are linearly dependent.\")\n",
    "        Q[:, j] = v / R[j, j]\n",
    "    return Q, R\n",
    "\n",
    "def modified_gs(V):\n",
    "    \"\"\"Modified Gram–Schmidt.\n",
    "    Numerically more stable: orthogonalize one vector at a time against the\n",
    "    current e_i, updating the residual in-place.\n",
    "    \"\"\"\n",
    "    m, n = V.shape\n",
    "    Q = np.zeros((m, n), dtype=float)\n",
    "    R = np.zeros((n, n), dtype=float)\n",
    "    W = V.astype(float).copy()\n",
    "    for i in range(n):\n",
    "        vi = W[:, i]\n",
    "        R[i, i] = np.linalg.norm(vi)\n",
    "        if R[i, i] == 0:\n",
    "            raise ValueError(\"Input columns are linearly dependent.\")\n",
    "        Q[:, i] = vi / R[i, i]\n",
    "        for j in range(i+1, n):\n",
    "            R[i, j] = Q[:, i] @ W[:, j]\n",
    "            W[:, j] = W[:, j] - R[i, j] * Q[:, i]\n",
    "    return Q, R\n"
   ]
  },
  {
   "cell_type": "markdown",
   "id": "ee3c5f3f",
   "metadata": {},
   "source": [
    "\n",
    "## 3) Hands-on: from two tilted vectors to an orthonormal pair (2D)\n",
    "\n",
    "Start with non-orthogonal vectors  \n",
    "\\(v_1=[3,1]^\\top,\\; v_2=[1,1]^\\top\\).  \n",
    "We expect Gram–Schmidt to give unit vectors \\(e_1,e_2\\) at right angles.\n"
   ]
  },
  {
   "cell_type": "code",
   "execution_count": null,
   "id": "c400ec5f",
   "metadata": {},
   "outputs": [],
   "source": [
    "\n",
    "V2 = np.column_stack([[3.,1.], [1.,1.]])\n",
    "Q2_cgs, R2_cgs = classical_gs(V2)\n",
    "Q2_mgs, R2_mgs = modified_gs(V2)\n",
    "\n",
    "print(\"Q (CGS) =\\n\", np.round(Q2_cgs, 4))\n",
    "print(\"R (CGS) =\\n\", np.round(R2_cgs, 4))\n",
    "ok, I = is_orthonormal(Q2_cgs)\n",
    "print(\"Q^T Q ≈ I ?\", ok, \"\\n\", np.round(I, 4))\n",
    "\n",
    "print(\"\\nQ (MGS) =\\n\", np.round(Q2_mgs, 4))\n",
    "print(\"R (MGS) =\\n\", np.round(R2_mgs, 4))\n",
    "ok, I = is_orthonormal(Q2_mgs)\n",
    "print(\"Q^T Q ≈ I ?\", ok, \"\\n\", np.round(I, 4))\n",
    "\n",
    "print(\"\\nCheck V ≈ Q R (CGS):\\n\", np.round(Q2_cgs @ R2_cgs, 4))\n",
    "print(\"Original V:\\n\", V2)\n"
   ]
  },
  {
   "cell_type": "markdown",
   "id": "d6d83897",
   "metadata": {},
   "source": [
    "\n",
    "### Visualizing the 2D orthogonalization\n",
    "\n",
    "We plot \\(v_1,v_2\\) and the resulting orthonormal \\(e_1,e_2\\) (columns of \\(Q\\)).\n"
   ]
  },
  {
   "cell_type": "code",
   "execution_count": null,
   "id": "39f670cf",
   "metadata": {},
   "outputs": [],
   "source": [
    "\n",
    "plt.figure()\n",
    "origin = np.zeros(2)\n",
    "v1, v2 = V2[:,0], V2[:,1]\n",
    "e1, e2 = Q2_mgs[:,0], Q2_mgs[:,1]\n",
    "\n",
    "plt.quiver(*origin, *v1, angles='xy', scale_units='xy', scale=1)\n",
    "plt.quiver(*origin, *v2, angles='xy', scale_units='xy', scale=1)\n",
    "plt.quiver(*origin, *e1, angles='xy', scale_units='xy', scale=1)\n",
    "plt.quiver(*origin, *e2, angles='xy', scale_units='xy', scale=1)\n",
    "\n",
    "plt.axhline(0, linewidth=1); plt.axvline(0, linewidth=1)\n",
    "plt.gca().set_aspect('equal', adjustable='box')\n",
    "plt.xlim(-0.5, 3.5); plt.ylim(-0.5, 2.5)\n",
    "plt.title(\"v1, v2 (tilted) and e1, e2 (orthonormal)\")\n",
    "plt.xlabel(\"x\"); plt.ylabel(\"y\")\n",
    "plt.show()\n"
   ]
  },
  {
   "cell_type": "markdown",
   "id": "2e6f846b",
   "metadata": {},
   "source": [
    "\n",
    "## 4) Stability matters: classical vs modified GS (3D, nearly dependent)\n",
    "\n",
    "We'll construct three vectors where \\(v_3\\) is almost in the span of \\(v_1,v_2\\).  \n",
    "Modified GS typically gives better orthogonality in finite precision.\n"
   ]
  },
  {
   "cell_type": "code",
   "execution_count": null,
   "id": "d8e55d42",
   "metadata": {},
   "outputs": [],
   "source": [
    "\n",
    "rng = np.random.default_rng(0)\n",
    "v1 = np.array([1., 0., 0.])\n",
    "v2 = np.array([1., 1e-8, 0.])\n",
    "v3 = np.array([1., 1e-8, 1e-12])\n",
    "\n",
    "V3 = np.column_stack([v1, v2, v3])\n",
    "\n",
    "Qc, Rc = classical_gs(V3)\n",
    "Qm, Rm = modified_gs(V3)\n",
    "\n",
    "Ic_ok, Ic = is_orthonormal(Qc)\n",
    "Im_ok, Im = is_orthonormal(Qm)\n",
    "\n",
    "print(\"Classical GS: Q^T Q ≈ I ?\", Ic_ok, \"\\n\", np.round(Ic, 8))\n",
    "print(\"Modified  GS: Q^T Q ≈ I ?\", Im_ok, \"\\n\", np.round(Im, 8))\n"
   ]
  },
  {
   "cell_type": "markdown",
   "id": "48d80b19",
   "metadata": {},
   "source": [
    "\n",
    "## 5) Gram–Schmidt = QR decomposition\n",
    "\n",
    "Stack your original vectors as columns of a matrix \\(A\\).  \n",
    "Gram–Schmidt returns \\(A = Q R\\) with \\(Q\\) orthonormal columns and \\(R\\) upper triangular.  \n",
    "Entries of \\(R\\) are the projection coefficients \\(r_{ij} = e_i^T v_j\\).\n",
    "\n",
    "Let's verify on a random tall matrix.\n"
   ]
  },
  {
   "cell_type": "code",
   "execution_count": null,
   "id": "4ab0c5de",
   "metadata": {},
   "outputs": [],
   "source": [
    "\n",
    "rng = np.random.default_rng(123)\n",
    "A = rng.normal(size=(5,3))\n",
    "Q, R = modified_gs(A)\n",
    "print(\"Residual ||A - Q R||_F =\", np.linalg.norm(A - Q @ R))\n",
    "print(\"Q^T Q ≈ I ?\", np.allclose(Q.T @ Q, np.eye(Q.shape[1]), atol=1e-10))\n",
    "print(\"R upper-triangular? ->\", np.allclose(R, np.triu(R)))\n"
   ]
  },
  {
   "cell_type": "markdown",
   "id": "06d1f646",
   "metadata": {},
   "source": [
    "\n",
    "## 6) Why orthonormal bases are convenient (coordinates)\n",
    "\n",
    "If \\(Q\\) has orthonormal columns \\(e_i\\), then **coordinates** of a vector \\(x\\) in that basis are simply \\(c = Q^T x\\).  \n",
    "And reconstruction is \\(x = Q c\\).\n"
   ]
  },
  {
   "cell_type": "code",
   "execution_count": null,
   "id": "8050687f",
   "metadata": {},
   "outputs": [],
   "source": [
    "\n",
    "x = np.array([2., 1., -1.])\n",
    "Q, R = modified_gs(np.column_stack([\n",
    "    [1.,0.,0.],\n",
    "    [1.,1.,0.],\n",
    "    [1.,1.,1.]\n",
    "]))\n",
    "coords = Q.T @ x\n",
    "recon  = Q @ coords\n",
    "print(\"coords =\", np.round(coords, 4))\n",
    "print(\"reconstruction matches?\", np.allclose(x, recon))\n"
   ]
  },
  {
   "cell_type": "markdown",
   "id": "65d0eada",
   "metadata": {},
   "source": [
    "\n",
    "## 7) ✍️ Exercises\n",
    "\n",
    "1. **Manual step (2D):**  \n",
    "   With \\(v_1=[3,1]^\\top\\), compute \\(e_1 = v_1/\\|v_1\\|\\).  \n",
    "   For \\(v_2=[1,1]^\\top\\), compute \\(u_2 = v_2 - (v_2\\cdot e_1)e_1\\), then \\(e_2 = u_2/\\|u_2\\|\\). Check \\(e_1^T e_2=0\\).\n",
    "\n",
    "2. **Implement GS:**  \n",
    "   Re-implement Classical GS in a function `my_cgs(V)` and test on random matrices. Compare \\(Q^TQ\\) vs identity.\n",
    "\n",
    "3. **Compare CGS vs MGS:**  \n",
    "   Build a nearly dependent set in 4D (e.g., last column is a tiny perturbation of a combination of the others). Compare orthogonality and the residual \\(\\|A-QR\\|_F\\).\n",
    "\n",
    "4. **QR check:**  \n",
    "   For a full column-rank matrix \\(A\\in\\mathbb{R}^{m\\times n}\\), use your GS to compute \\(Q,R\\). Verify **upper triangular** \\(R\\) and that diagonal entries are the norms of the intermediate residuals.\n",
    "\n",
    "5. **Projection practice:**  \n",
    "   Given orthonormal \\(Q\\) and a vector \\(x\\), compute projection onto the span of the first \\(k\\) vectors: \\(\\hat x = Q_k Q_k^T x\\). Show this equals the least-squares solution to \\(\\min\\_y \\|x - Q_k y\\|\\).\n"
   ]
  },
  {
   "cell_type": "markdown",
   "id": "60d14198",
   "metadata": {},
   "source": [
    "\n",
    "### ✅ Short solutions / hints\n",
    "\n",
    "1. \\(\\|v_1\\|=\\sqrt{10}\\). Then \\(e_1=\\tfrac{1}{\\sqrt{10}}[3,1]^\\top\\).  \n",
    "   \\(u_2 = [1,1]^\\top - ((1\\cdot3 + 1\\cdot1)/10)[3,1]^\\top = [1,1]^\\top - (0.4)[3,1]^\\top\\).  \n",
    "   Normalize \\(u_2\\) to get \\(e_2\\). Check dot product \\(\\approx 0\\) (up to rounding).\n",
    "\n",
    "2. Follow the template in `classical_gs`. Confirm `np.allclose(Q.T@Q, I)`.\n",
    "\n",
    "3. Small perturbations highlight CGS drift vs MGS robustness. Compare \\(\\|Q^T Q - I\\|\\).\n",
    "\n",
    "4. Track the norms you assign to \\(R_{jj}\\) during GS; they are the residual lengths. \\(R\\) is upper triangular by construction.\n",
    "\n",
    "5. Use `Qk = Q[:, :k]` and compute `Qk @ (Qk.T @ x)`. Least-squares normal equations reduce to this when \\(Q_k\\) is orthonormal.\n"
   ]
  },
  {
   "cell_type": "markdown",
   "id": "a37a2173",
   "metadata": {},
   "source": [
    "\n",
    "## 8) Summary\n",
    "\n",
    "- Gram–Schmidt turns awkward bases into **orthonormal** ones via **projections and normalization**.  \n",
    "- **Modified GS** reduces numerical error compared to classical GS.  \n",
    "- It naturally produces the **QR factorization** \\(A=QR\\) with \\(Q\\) orthonormal, \\(R\\) upper triangular.  \n",
    "- With orthonormal columns, **coordinates are dot products** \\(c=Q^T x\\) and projections are \\(Q Q^T x\\).\n"
   ]
  }
 ],
 "metadata": {},
 "nbformat": 4,
 "nbformat_minor": 5
}
